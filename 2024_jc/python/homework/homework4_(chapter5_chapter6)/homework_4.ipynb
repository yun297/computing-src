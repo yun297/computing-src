{
 "cells": [
  {
   "cell_type": "markdown",
   "metadata": {},
   "source": [
    "# <u>**Q1. Lists**</u>\n",
    "\n",
    "Given a list of integers, write a function that would print the following:\n",
    "*   Median\n",
    "*   Modal frequency and mode"
   ]
  },
  {
   "cell_type": "markdown",
   "metadata": {},
   "source": [
    "## <u>**(a). Median**</u>\n",
    "\n",
    "`median(num_list)`: takes in a list of integers and prints the median.\n",
    "\n",
    "Example:\n",
    "```\n",
    "median([1,8,7,9,6,1])\n",
    "median([-5,4,7,-11,6])\n",
    "```\n",
    "Output:\n",
    "```\n",
    "Median: 6.5\n",
    "Median: 4\n",
    "```"
   ]
  },
  {
   "cell_type": "code",
   "execution_count": 8,
   "metadata": {},
   "outputs": [
    {
     "name": "stdout",
     "output_type": "stream",
     "text": [
      "6.5\n",
      "4\n"
     ]
    }
   ],
   "source": [
    "def median(num_list):\n",
    "    num_list.sort()\n",
    "    \n",
    "    if len(num_list) % 2 == 1:\n",
    "        return num_list[int((len(num_list) - 1)/2)]\n",
    "    else:\n",
    "        return (num_list[int(len(num_list)/2) - 1] + num_list[int(len(num_list)/2)])/2\n",
    "\n",
    "print(median([1,8,7,9,6,1])) # 1,1,6,   7,8,9\n",
    "print(median([-5,4,7,-11,6]))\n"
   ]
  },
  {
   "cell_type": "markdown",
   "metadata": {},
   "source": [
    "## <u>**(b). Mode**</u>\n",
    "\n",
    "`median(num_list)`: takes in a list of integers and prints the frequency of the mode(s), and prints out the mode(s). If the list is multi-modal, prints out all the modes.\n",
    "\n",
    "NOTE: the function PRINTS out, not RETURN. (be careful of instructions in exams)\n",
    "\n",
    "Example:\n",
    "```\n",
    "mode([1,8,7,9,6,1])\n",
    "print()\n",
    "mode([-5,4,7,-11,6])\n",
    "```\n",
    "Output:\n",
    "```\n",
    "Frequency: 2\n",
    "Mode(s): 1\n",
    "\n",
    "Frequency: 1\n",
    "Mode(s): -11, -5, 4, 6, 7 # need not be ordered\n",
    "```"
   ]
  },
  {
   "cell_type": "code",
   "execution_count": 21,
   "metadata": {},
   "outputs": [
    {
     "name": "stdout",
     "output_type": "stream",
     "text": [
      "Frequency: 2\n",
      "Mode(s): 1\n",
      "Frequency: 1\n",
      "Mode(s): -11, -5, 4, 6, 7\n"
     ]
    }
   ],
   "source": [
    "def mode(num_list):\n",
    "    freq = {}\n",
    "    \n",
    "    for num in num_list:\n",
    "        if num not in freq:\n",
    "            freq[num] = 1\n",
    "        else:\n",
    "            freq[num] += 1\n",
    "\n",
    "    max_freq = max(freq.values())\n",
    "    # modes = [num for num, freq in freq.items() if freq == max_freq]\n",
    "    \n",
    "    modes = []\n",
    "    \n",
    "    for num, freq in freq.items():\n",
    "        if freq == max_freq:\n",
    "            modes.append(num)\n",
    "            \n",
    "    modes.sort()\n",
    "            \n",
    "    string = f\"Frequency: {max_freq}\\nMode(s): \"\n",
    "    \n",
    "    for mode in modes:\n",
    "        string += f\"{mode}, \"\n",
    "        \n",
    "    return string[:-2]\n",
    "\n",
    "print(mode([1,8,7,9,6,1]))\n",
    "print(mode([-5,4,7,-11,6]))"
   ]
  },
  {
   "cell_type": "markdown",
   "metadata": {},
   "source": [
    "# <u>**Q2. Files**</u>\n",
    "\n",
    "There are 20 text files provided, out of which (at least) 1 file contains the string `hwachong`. Write a program that can open the 20 files and identify the file(s).\n",
    "\n",
    "The files are named `school1.txt` to `school20.txt`."
   ]
  },
  {
   "cell_type": "code",
   "execution_count": null,
   "metadata": {},
   "outputs": [],
   "source": [
    "for i in range(1, 21):\n",
    "    file = open(f\"school{i}.txt\", \"r\")\n",
    "    \n",
    "    for line in file:\n",
    "        if \"hwachong\" in line:\n",
    "            print(f\"'hwahong' is found in school{i}.txt\")\n",
    "    \n",
    "    file.close()"
   ]
  },
  {
   "cell_type": "markdown",
   "metadata": {},
   "source": [
    "# <u>**Q3. Roman Numerals**</u>\n",
    "\n",
    "Write 2 functions converting between Integers and Roman Numerals.\n",
    "\n",
    "Roman Numeral  | Integer Value\n",
    "---------------|---------------\n",
    "I              |  1\n",
    "V              |  5\n",
    "X              |  10\n",
    "L              |  50\n",
    "C              |  100\n",
    "D              |  500\n",
    "M              |  1000\n",
    "\n",
    "`int2rom(2022)` $\\Rightarrow$ `'MMCCII'`<br>\n",
    "`rom2int('CLIX')` $\\Rightarrow$ `159`\n",
    "\n",
    "Note: 4, 9, 40, 90, 400, 900 are written as 'IV', 'IX', 'XL', 'XC', 'CD' and 'CM' respectively.\n",
    "\n",
    "[Wiki page on Roman Numerals](https://en.wikipedia.org/wiki/Roman_numerals)<br>\n",
    "[Converter Tester](https://www.rapidtables.com/convert/number/roman-numerals-converter.html)"
   ]
  },
  {
   "cell_type": "markdown",
   "metadata": {},
   "source": [
    "## <u>**(a). Integer to Roman**</u>\n",
    "\n",
    "`int2rom(num)`: which accepts a positive integer $1\\leq$ `num` $\\leq 3999$, converts and returns it as a roman numeral string.\n",
    "\n",
    "Example:\n",
    "```\n",
    "print(int2rom(2494))\n",
    "print(int2rom(238))\n",
    "print(int2rom(1337))\n",
    "```\n",
    "Output:\n",
    "```\n",
    "MMCDXCIV\n",
    "CCXXXVIII\n",
    "MCCCXXXVII\n",
    "```"
   ]
  },
  {
   "cell_type": "markdown",
   "metadata": {},
   "source": [
    "`num_dict` that we are using in Method 1:\n",
    "\n",
    "row|`num_dict[row][0]`|`num_dict[row][1]`\n",
    "---|----------------|----------------\n",
    "0  |      1000      |      'M'       \n",
    "1  |      900       |      'CM'      \n",
    "2  |      500       |      'D'       \n",
    "3  |      400       |      'CD'      \n",
    "4  |      100       |      'C'       \n",
    "5  |       90       |      'XC'      \n",
    "6  |       50       |      'L'       \n",
    "7  |       40       |      'XL'      \n",
    "8  |       10       |      'X'       \n",
    "9  |       9        |      'IX'      \n",
    "10 |       5        |      'V'       \n",
    "11 |       4        |      'IV'      \n",
    "12 |       1        |      'I'       \n",
    "\n",
    "note: this is a $13 \\times 2$ array, `num_dict[11][1]` is 'IV'\n",
    "\n",
    "note: if we were using <dict>, we can use `for digits in num_dict.keys():` and `return_str += numdict[digits]` (try to write the dictionary version)"
   ]
  },
  {
   "cell_type": "code",
   "execution_count": 32,
   "metadata": {},
   "outputs": [
    {
     "name": "stdout",
     "output_type": "stream",
     "text": [
      "MMCDXCIV\n",
      "CCXXXVIII\n",
      "MCCCXXXVII\n"
     ]
    }
   ],
   "source": [
    "def int2rom(num):\n",
    "    num_dict = [\n",
    "        (1000, \"M\"),\n",
    "        (900, \"CM\"),\n",
    "        (500, \"D\"),\n",
    "        (400, \"CD\"),\n",
    "        (100, \"C\"),\n",
    "        (90, \"XC\"),\n",
    "        (50, \"L\"),\n",
    "        (40, \"XL\"),\n",
    "        (10, \"X\"),\n",
    "        (9, \"IX\"),\n",
    "        (5, \"V\"),\n",
    "        (4, \"IV\"),\n",
    "        (1, \"I\")\n",
    "    ]\n",
    "    \n",
    "    rom = \"\"\n",
    "    \n",
    "    for i, numeral in num_dict:\n",
    "        count = num // i\n",
    "        rom += numeral * count\n",
    "        num -= i * count\n",
    "\n",
    "    return rom\n",
    "\n",
    "print(int2rom(2494))  # Output: MMCDXCIV\n",
    "print(int2rom(238))  # Output: CCXXXVIII\n",
    "print(int2rom(1337))  # Output: MCCCXXXVII"
   ]
  },
  {
   "cell_type": "markdown",
   "metadata": {},
   "source": [
    "## <u>**(b). Roman to Integer**</u>\n",
    "\n",
    "`rom2int(rom)`: which accepts a roman numeral string, converts and returns an integer $1\\leq$ `num` $\\leq 3999$.\n",
    "\n",
    "Example:\n",
    "```\n",
    "print(rom2int('MMMCMXCIX'))\n",
    "print(rom2int('MIX'))\n",
    "print(rom2int('MCCCXXXVII'))\n",
    "```\n",
    "Output:\n",
    "```\n",
    "3999\n",
    "1009\n",
    "1337\n",
    "```"
   ]
  },
  {
   "cell_type": "code",
   "execution_count": 2,
   "metadata": {},
   "outputs": [
    {
     "name": "stdout",
     "output_type": "stream",
     "text": [
      "3999\n",
      "1009\n",
      "1337\n"
     ]
    }
   ],
   "source": [
    "def rom2int(rom):\n",
    "    rom_dict = {\n",
    "            \"M\": 1000,\n",
    "            \"CM\": 900,\n",
    "            \"D\": 500,\n",
    "            \"CD\": 400,\n",
    "            \"C\": 100,\n",
    "            \"XC\": 90,\n",
    "            \"L\": 50,\n",
    "            \"XL\": 40,\n",
    "            \"X\": 10,\n",
    "            \"IX\": 9,\n",
    "            \"V\": 5,\n",
    "            \"IV\": 4,\n",
    "            \"I\": 1\n",
    "        }\n",
    "    \n",
    "    num = 0\n",
    "    i = 0\n",
    "\n",
    "    while i < len(rom):\n",
    "        if i + 1 < len(rom) and rom[i:i+2] in rom_dict:\n",
    "            num += rom_dict[rom[i:i+2]]\n",
    "            i += 2\n",
    "        else:\n",
    "            num += rom_dict[rom[i]]\n",
    "            i += 1\n",
    "                \n",
    "    return num\n",
    "\n",
    "print(rom2int('MMMCMXCIX'))\n",
    "print(rom2int('MIX'))\n",
    "print(rom2int('MCCCXXXVII'))\n"
   ]
  }
 ],
 "metadata": {
  "kernelspec": {
   "display_name": "Python 3",
   "language": "python",
   "name": "python3"
  },
  "language_info": {
   "codemirror_mode": {
    "name": "ipython",
    "version": 3
   },
   "file_extension": ".py",
   "mimetype": "text/x-python",
   "name": "python",
   "nbconvert_exporter": "python",
   "pygments_lexer": "ipython3",
   "version": "3.11.9"
  }
 },
 "nbformat": 4,
 "nbformat_minor": 2
}
