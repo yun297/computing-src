{
 "cells": [
  {
   "cell_type": "code",
   "execution_count": null,
   "metadata": {},
   "outputs": [],
   "source": [
    "def is_prime(num):\n",
    "    if num == 1:\n",
    "        return False\n",
    "    elif num > 1:\n",
    "        for i in range (2, num):\n",
    "            if num % i == 0:\n",
    "                return False\n",
    "    \n",
    "    return True\n",
    "\n",
    "n = int(input(\"Enter a number: \"))\n",
    "primes = []\n",
    "i = 2\n",
    "\n",
    "while len(primes) < n:\n",
    "    if is_prime(i):\n",
    "        primes.append(i)\n",
    "    i += 1\n",
    "\n",
    "print(primes)"
   ]
  },
  {
   "cell_type": "code",
   "execution_count": 7,
   "metadata": {},
   "outputs": [
    {
     "name": "stdout",
     "output_type": "stream",
     "text": [
      "17 289\n"
     ]
    }
   ],
   "source": [
    "i = 0\n",
    "square = 0\n",
    "\n",
    "while len(str(square)) <= 3:\n",
    "    square = i ** 2\n",
    "    if len(str(square)) == 3 and \"4\" not in str(square) and \"7\" not in str(square):\n",
    "        if int(str(square)[0]) + int(str(square)[1]) + int(str(square)[2]) == 19:\n",
    "            print(i, square)\n",
    "    i += 1"
   ]
  },
  {
   "cell_type": "code",
   "execution_count": 24,
   "metadata": {},
   "outputs": [
    {
     "name": "stdout",
     "output_type": "stream",
     "text": [
      "    1\n",
      "   121\n",
      "  12321\n",
      " 1234321\n",
      "123454321\n"
     ]
    }
   ],
   "source": [
    "def display_triangle(n):\n",
    "    for i in range(1, n + 1):\n",
    "        # Print leading spaces\n",
    "        print(\" \" * (n - i), end=\"\")\n",
    "        \n",
    "        # Print increasing numbers\n",
    "        for j in range(1, i + 1):\n",
    "            print(j, end=\"\")\n",
    "            \n",
    "        # Print decreasing numbers\n",
    "        for j in range(i - 1, 0, -1):\n",
    "            print(j, end=\"\")\n",
    "\n",
    "        print()\n",
    "\n",
    "display_triangle(5)"
   ]
  },
  {
   "cell_type": "code",
   "execution_count": 110,
   "metadata": {},
   "outputs": [
    {
     "name": "stdout",
     "output_type": "stream",
     "text": [
      "\t\t\t\t\t\t\t\t\t  1  \t\n",
      "\t\t\t\t\t\t\t\t  1  \t  1  \t\n",
      "\t\t\t\t\t\t\t\t  1  \t  2  \t  1  \t\n",
      "\t\t\t\t\t\t\t  1  \t  3  \t  3  \t  1  \t\n",
      "\t\t\t\t\t\t\t  1  \t  4  \t  6  \t  4  \t  1  \t\n",
      "\t\t\t\t\t\t  1  \t  5  \t 10  \t 10  \t  5  \t  1  \t\n",
      "\t\t\t\t\t\t  1  \t  6  \t 15  \t 20  \t 15  \t  6  \t  1  \t\n",
      "\t\t\t\t\t  1  \t  7  \t 21  \t 35  \t 35  \t 21  \t  7  \t  1  \t\n",
      "\t\t\t\t\t  1  \t  8  \t 28  \t 56  \t 70  \t 56  \t 28  \t  8  \t  1  \t\n",
      "\t\t\t\t  1  \t  9  \t 36  \t 84  \t 126 \t 126 \t 84  \t 36  \t  9  \t  1  \t\n",
      "\t\t\t\t  1  \t 10  \t 45  \t 120 \t 210 \t 252 \t 210 \t 120 \t 45  \t 10  \t  1  \t\n",
      "\t\t\t  1  \t 11  \t 55  \t 165 \t 330 \t 462 \t 462 \t 330 \t 165 \t 55  \t 11  \t  1  \t\n",
      "\t\t\t  1  \t 12  \t 66  \t 220 \t 495 \t 792 \t 924 \t 792 \t 495 \t 220 \t 66  \t 12  \t  1  \t\n",
      "\t\t  1  \t 13  \t 78  \t 286 \t 715 \t1287 \t1716 \t1716 \t1287 \t 715 \t 286 \t 78  \t 13  \t  1  \t\n",
      "\t\t  1  \t 14  \t 91  \t 364 \t1001 \t2002 \t3003 \t3432 \t3003 \t2002 \t1001 \t 364 \t 91  \t 14  \t  1  \t\n",
      "\t  1  \t 15  \t 105 \t 455 \t1365 \t3003 \t5005 \t6435 \t6435 \t5005 \t3003 \t1365 \t 455 \t 105 \t 15  \t  1  \t\n",
      "\t  1  \t 16  \t 120 \t 560 \t1820 \t4368 \t8008 \t11440\t12870\t11440\t8008 \t4368 \t1820 \t 560 \t 120 \t 16  \t  1  \t\n",
      "  1  \t 17  \t 136 \t 680 \t2380 \t6188 \t12376\t19448\t24310\t24310\t19448\t12376\t6188 \t2380 \t 680 \t 136 \t 17  \t  1  \t\n",
      "  1  \t 18  \t 153 \t 816 \t3060 \t8568 \t18564\t31824\t43758\t48620\t43758\t31824\t18564\t8568 \t3060 \t 816 \t 153 \t 18  \t  1  \t\n"
     ]
    }
   ],
   "source": [
    "def count_digits(n):\n",
    "    return len(str(n))\n",
    "\n",
    "def fact(n):\n",
    "    if n > 0:\n",
    "        return n * fact(n - 1)\n",
    "    else:\n",
    "        return 1\n",
    "\n",
    "def choose(n,r):\n",
    "    return int(fact(n) / (fact(r) * fact(n - r)))\n",
    "\n",
    "def display_pascal(n):\n",
    "    \n",
    "    max_digits = count_digits(choose(n, n // 2))\n",
    "    # print(max_digits)\n",
    "    \n",
    "    for i in range (n + 1):\n",
    "        print(\"\\t\" * ((n - i) // 2), end = \"\")\n",
    "        for j in range(i + 1):\n",
    "            # if i % 2 == 1:\n",
    "            #     print(\"\", end = \"\")\n",
    "            print(f\"{choose(i, j):^5}\", end = \"\\t\")\n",
    "        print()\n",
    "\n",
    "\n",
    "# display_pascal(4)\n",
    "display_pascal(18)"
   ]
  }
 ],
 "metadata": {
  "kernelspec": {
   "display_name": "Python 3",
   "language": "python",
   "name": "python3"
  },
  "language_info": {
   "codemirror_mode": {
    "name": "ipython",
    "version": 3
   },
   "file_extension": ".py",
   "mimetype": "text/x-python",
   "name": "python",
   "nbconvert_exporter": "python",
   "pygments_lexer": "ipython3",
   "version": "3.11.8"
  }
 },
 "nbformat": 4,
 "nbformat_minor": 2
}
