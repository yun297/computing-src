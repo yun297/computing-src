{
 "cells": [
  {
   "cell_type": "markdown",
   "metadata": {},
   "source": [
    "A binary search tree is used to store 10 integer values between O and 999 (inclusive) in ascending\n",
    "numerical order.\n",
    "\n",
    "The tree is implemented using Object-Oriented Programming (OOP).\n",
    "The class `Tree` contains three properties:\n",
    "*  `left_pointer` points to the left subtree\n",
    "*  `right_pointer` points to the right subtree\n",
    "*  `data` is the data in the node .\n",
    "\n",
    "The class `Tree` contains the following methods:\n",
    "*  a constructor to set the left pointer and right pointer to None, and the data to its parameter\n",
    "*  a recursive method to take the parameter and store it in the correct position in the tree\n",
    "*  a recursive method to use in-order traversal to output the data in the tree\n",
    "*  a recursive method to use post-order traversal to output the data in the tree.\n",
    "\n",
    "Write program code to declare the class Tree and its constructor.\n",
    "\n",
    "Write the recursive method to insert a new node into the tree.\n",
    "\n",
    "Write the main program to:\n",
    "*  declare a new instance of Tree\n",
    "*  generate 10 unique random integer values between O and 999 (inclusive)\n",
    "*  store each unique value as a new node in the tree using your method.\n",
    "Write program code to:\n",
    "*  declare the method to output the in-order traversal of the binary tree\n",
    "*  declare the method to output the post-order traversal of the binary tree.\n",
    "\n",
    "Call the in-order and post-order methods using your tree structure.\n",
    "\n",
    "Test your program and show the output from each traversal."
   ]
  },
  {
   "cell_type": "code",
   "execution_count": 18,
   "metadata": {},
   "outputs": [],
   "source": [
    "class Tree:\n",
    "    def __init__(self, data, left_pointer = None, right_pointer = None) -> None:\n",
    "        self.left_pointer = left_pointer\n",
    "        self.right_pointer = right_pointer\n",
    "        self.data = data\n",
    "    \n",
    "    def store(self, data):\n",
    "        if self.data is None:\n",
    "            self.data = data\n",
    "            \n",
    "        elif data < self.data:\n",
    "            if self.left_pointer is None:\n",
    "                self.left_pointer = Tree(data)\n",
    "            else:\n",
    "                self.left_pointer.store(data)\n",
    "        \n",
    "        elif data > self.data:\n",
    "            if self.right_pointer is None:\n",
    "                self.right_pointer = Tree(data)\n",
    "            else:\n",
    "                self.right_pointer.store(data)\n",
    "                \n",
    "    def in_order(self):\n",
    "        if self.left_pointer is not None:\n",
    "            self.left_pointer.in_order()\n",
    "            \n",
    "        print(self.data)\n",
    "        \n",
    "        if self.right_pointer is not None:\n",
    "            self.right_pointer.in_order()\n",
    "            \n",
    "    \n",
    "    def post_order(self):\n",
    "        if self.left_pointer is not None:\n",
    "            self.left_pointer.post_order()\n",
    "        \n",
    "        if self.right_pointer is not None:\n",
    "            self.right_pointer.post_order()\n",
    "            \n",
    "        print(self.data)"
   ]
  },
  {
   "cell_type": "code",
   "execution_count": 19,
   "metadata": {},
   "outputs": [
    {
     "name": "stdout",
     "output_type": "stream",
     "text": [
      "[557, 56, 927, 359, 843, 649, 47, 417, 255, 925]\n"
     ]
    }
   ],
   "source": [
    "from random import randint\n",
    "\n",
    "apple_tree = Tree(randint(0, 999))\n",
    "insertion_list = []\n",
    "\n",
    "while len(insertion_list) != 10:\n",
    "    insertion_value = randint(0, 999)\n",
    "    if insertion_value not in insertion_list:\n",
    "        insertion_list.append(insertion_value)\n",
    "        \n",
    "print(insertion_list)\n",
    "\n",
    "for value in insertion_list:\n",
    "    apple_tree.store(value)"
   ]
  },
  {
   "cell_type": "code",
   "execution_count": 20,
   "metadata": {},
   "outputs": [
    {
     "name": "stdout",
     "output_type": "stream",
     "text": [
      "47\n",
      "56\n",
      "65\n",
      "255\n",
      "359\n",
      "417\n",
      "557\n",
      "649\n",
      "843\n",
      "925\n",
      "927\n",
      "\n",
      "47\n",
      "56\n",
      "255\n",
      "417\n",
      "359\n",
      "649\n",
      "925\n",
      "843\n",
      "927\n",
      "557\n",
      "65\n"
     ]
    }
   ],
   "source": [
    "apple_tree.in_order()\n",
    "print()\n",
    "apple_tree.post_order()"
   ]
  }
 ],
 "metadata": {
  "kernelspec": {
   "display_name": "Python 3",
   "language": "python",
   "name": "python3"
  },
  "language_info": {
   "codemirror_mode": {
    "name": "ipython",
    "version": 3
   },
   "file_extension": ".py",
   "mimetype": "text/x-python",
   "name": "python",
   "nbconvert_exporter": "python",
   "pygments_lexer": "ipython3",
   "version": "3.11.9"
  }
 },
 "nbformat": 4,
 "nbformat_minor": 2
}
