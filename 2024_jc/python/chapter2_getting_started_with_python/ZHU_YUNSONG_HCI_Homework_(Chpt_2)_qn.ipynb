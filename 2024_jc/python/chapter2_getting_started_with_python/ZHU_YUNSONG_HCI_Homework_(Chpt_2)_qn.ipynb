{
  "cells": [
    {
      "cell_type": "markdown",
      "metadata": {
        "id": "ZtH2eFbjt6gY"
      },
      "source": [
        "<u>**Q1.**</u>\n",
        "\n",
        "Write a program that when given an integer input between 0-999, it will give an output with breakdown of decimal place values.\n",
        "\n",
        "Do a validation check for the following:\n",
        "\n",
        "*   Presence Check\n",
        "*   Length Check\n",
        "*   Range Check\n",
        "*   Format Check (data-type check)\n",
        "\n",
        "Example:\n",
        "```\n",
        "Number? 123\n",
        "1 hundred(s), 2 ten(s), 3 one(s)\n",
        "```"
      ]
    },
    {
      "cell_type": "code",
      "execution_count": 3,
      "metadata": {
        "colab": {
          "base_uri": "https://localhost:8080/"
        },
        "id": "GklOjfEQt6yv",
        "outputId": "05267664-04be-4ffe-e3f2-cf387a7c9a7f"
      },
      "outputs": [
        {
          "name": "stdout",
          "output_type": "stream",
          "text": [
            "Error: Number must be an interger between 0 and 999!\n"
          ]
        }
      ],
      "source": [
        "# Solution to Q1 here\n",
        "\n",
        "def validate(user_input):\n",
        "    # Presence check\n",
        "    if user_input == \"\":\n",
        "        return False, \"Error: Input cannot be empty!\"\n",
        "    \n",
        "    try:\n",
        "        number = int(user_input)\n",
        "        if number < 0 or number > 999:\n",
        "            return False,\"Error: Number must be an interger between 0 and 999!\"\n",
        "    except ValueError:\n",
        "        return False, \"Error: Input must be an interger!\"\n",
        "    \n",
        "    # Length check\n",
        "    if len(user_input) > 3:\n",
        "        return False, \"Error: Input must have a maximum of 3 digits!\"\n",
        "    \n",
        "    return True, \"\"\n",
        "\n",
        "def breakdown(num):\n",
        "    hundreds = num // 100\n",
        "    tens = (num % 100) // 10\n",
        "    ones = num % 10\n",
        "    \n",
        "    return hundreds, tens, ones\n",
        "\n",
        "def main():\n",
        "    user_input = input(\"Number? \")\n",
        "    is_valid, message = validate(user_input)\n",
        "    \n",
        "    if not is_valid:\n",
        "        print(message)\n",
        "    else:\n",
        "        hundreds, tens, ones = breakdown(int(user_input))\n",
        "        print(f\"{hundreds} hundred(s), {tens} ten(s), {ones} one(s)\")\n",
        "        \n",
        "main()\n"
      ]
    },
    {
      "cell_type": "markdown",
      "metadata": {
        "id": "lPVeSrFrfdjd"
      },
      "source": [
        "<u>**Q2. Part 1**</u>\n",
        "\n",
        "Take $a$, $b$ and $c$ as input for a quadratic equation $ax^2 + bx + c = 0$ and give the discriminant, $\\Delta$.\n",
        "\n",
        "Your program should be able to accept decimal & negative inputs.\n",
        "\n",
        "help: $\\Delta$ can be written with chr(916)\n",
        "\n",
        "Example:\n",
        "```\n",
        "What is a? 2\n",
        "What is b? -6\n",
        "What is c? 4\n",
        "Δ is 4\n",
        "```"
      ]
    },
    {
      "cell_type": "code",
      "execution_count": 4,
      "metadata": {
        "colab": {
          "base_uri": "https://localhost:8080/"
        },
        "id": "WfJ0kr8JfbFE",
        "outputId": "32ccbc0d-7acf-4fdc-d287-e0d921fd1bd6"
      },
      "outputs": [
        {
          "name": "stdout",
          "output_type": "stream",
          "text": [
            "chr(916) is -8\n"
          ]
        }
      ],
      "source": [
        "# Solution to Q2 (i) here\n",
        "\n",
        "a = int(input(\"What is a?\"))\n",
        "b = int(input(\"What is b?\"))\n",
        "c = int(input(\"What is c?\"))\n",
        "\n",
        "delta = b**2 - 4*a*c\n",
        "\n",
        "print(\"chr(916) is\", delta)"
      ]
    },
    {
      "cell_type": "markdown",
      "metadata": {
        "id": "8tQA8-K1ph3A"
      },
      "source": [
        "<u>**Q2. Part 2**</u>\n",
        "\n",
        "Write a program that would solve quadratic equations when given the inputs $a$, $b$ and $c$.\n",
        "\n",
        "Your program should give the roots, give a single root or error message \"no real roots\" where applicable.\n",
        "\n",
        "note: you will need conditionals. (ie. \"if\", \"elif\", ... from chapter 3)\n",
        "\n",
        "<hr>\n",
        "\n",
        "bonus: (optional) give complex/imaginary solutions"
      ]
    },
    {
      "cell_type": "code",
      "execution_count": null,
      "metadata": {
        "colab": {
          "base_uri": "https://localhost:8080/"
        },
        "id": "Lea-yLoGq-oA",
        "outputId": "3deeb783-9538-4332-9ea5-ab39d7aaaacc"
      },
      "outputs": [
        {
          "name": "stdout",
          "output_type": "stream",
          "text": [
            "The roots are 0.0 + 1.0i and 0.0 - 1.0i\n"
          ]
        }
      ],
      "source": [
        "from math import sqrt\n",
        "\n",
        "# Solution to Q2 (ii) here\n",
        "\n",
        "a = int(input(\"What is a?\"))\n",
        "b = int(input(\"What is b?\"))\n",
        "c = int(input(\"What is c?\"))\n",
        "\n",
        "def check_delta(a, b, c):\n",
        "    delta = (b**2 - 4*a*c)\n",
        "    \n",
        "    if delta < 0:\n",
        "        return 0\n",
        "    elif delta == 0:\n",
        "        return 1\n",
        "    elif delta > 0:\n",
        "        return 2 \n",
        "\n",
        "def calc_roots(a, b, c):\n",
        "    delta = check_delta(a, b, c)\n",
        "    if delta == 2:\n",
        "        root1 = (-b + sqrt(b**2 - 4*a*c)) / (2*a)\n",
        "        root2 = (-b - sqrt(b**2 - 4*a*c)) / (2*a)\n",
        "        return root1, root2\n",
        "    elif delta == 1:\n",
        "        root = -b / (2*a)\n",
        "        return root,\n",
        "    else:\n",
        "        return \"No real roots\"\n",
        "\n",
        "roots = calc_roots(a, b, c)\n",
        "print(\"Roots:\", roots)"
      ]
    }
  ],
  "metadata": {
    "colab": {
      "provenance": []
    },
    "kernelspec": {
      "display_name": "Python 3",
      "name": "python3"
    },
    "language_info": {
      "codemirror_mode": {
        "name": "ipython",
        "version": 3
      },
      "file_extension": ".py",
      "mimetype": "text/x-python",
      "name": "python",
      "nbconvert_exporter": "python",
      "pygments_lexer": "ipython3",
      "version": "3.11.8"
    }
  },
  "nbformat": 4,
  "nbformat_minor": 0
}
