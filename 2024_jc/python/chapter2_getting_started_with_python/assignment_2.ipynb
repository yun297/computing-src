{
 "cells": [
  {
   "cell_type": "markdown",
   "metadata": {},
   "source": [
    "# Question 1\n",
    "\n",
    "Write a program that accepts the user’s name (as text) and age (as an integer) as input. The program should output a sentence containing the user’s name and current age, and age in 10 years’ time."
   ]
  },
  {
   "cell_type": "code",
   "execution_count": 2,
   "metadata": {},
   "outputs": [
    {
     "name": "stdout",
     "output_type": "stream",
     "text": [
      "balls is 10 years old, and 20 years old in 10 years time.\n"
     ]
    }
   ],
   "source": [
    "name = input(\"Enter your name: \")\n",
    "age = int(input(\"Enter your age: \"))\n",
    "\n",
    "print(f\"{name} is {age} years old, and {age + 10} years old in 10 years time.\")"
   ]
  },
  {
   "cell_type": "markdown",
   "metadata": {},
   "source": [
    "# Question 2\n",
    "\n",
    "Write a program that takes the radius of a sphere (a floating-point number) as input and output the sphere’s diameter, circumference, surface area, and volume."
   ]
  },
  {
   "cell_type": "code",
   "execution_count": 8,
   "metadata": {},
   "outputs": [
    {
     "name": "stdout",
     "output_type": "stream",
     "text": [
      "Diameter: 4.0 cm\n",
      "Circumfrence: 12.566370614359172 cm\n",
      "Surface Area: 50.26548245743669 cm^2\n",
      "Volume: 33.510321638291124 cm^3\n"
     ]
    }
   ],
   "source": [
    "from math import pi\n",
    "\n",
    "radius = float(input(\"Enter the radius of your sphere in cm: \"))\n",
    "\n",
    "print(f\"Diameter: {radius * 2} cm\\nCircumfrence: {radius * 2 * pi} cm\\nSurface Area: {4 * pi * radius**2} cm^2\\nVolume: {(4 * pi * radius**3)/3} cm^3\")\n"
   ]
  },
  {
   "cell_type": "markdown",
   "metadata": {},
   "source": [
    "# Question 3\n",
    "\n",
    "An employee’s total weekly pay equals the hourly wage multiplied by the total number of regular hours plus overtime pay. Overtime pay equals the overtime hours multiplied by 1.5 times the hourly wage. Write a program that takes as inputs the hourly wage, total regular hours, and total overtime hours and display an employee’s total weekly pay (round to the nearest dollar)."
   ]
  },
  {
   "cell_type": "code",
   "execution_count": 12,
   "metadata": {},
   "outputs": [
    {
     "name": "stdout",
     "output_type": "stream",
     "text": [
      "Total weekly pay: $132\n"
     ]
    }
   ],
   "source": [
    "hourly_wage = float(input(\"Enter your hourly wage in dollars: \"))\n",
    "regular_hours = float(input(\"Enter your regular hours worked: \"))\n",
    "overtime_hours = float(input(\"Enter your overtime hours worked: \"))\n",
    "\n",
    "print(f\"Total weekly pay: ${round(regular_hours * hourly_wage + overtime_hours * hourly_wage * 1.5)}\")"
   ]
  },
  {
   "cell_type": "markdown",
   "metadata": {},
   "source": [
    "# Question 4\n",
    "\n",
    "A bakery sells loaves of bread for $3.50 each. Day old bread is discounted by 60 percent. Write a program that begins by reading the number of loaves of day old bread being purchased from the user. Then your program should display the regular price for the bread, the discount because it is a day old, and the total price.\n",
    "\n",
    "All of the values should be displayed using two decimal places, and the decimal points in all of the numbers should be aligned when reasonable values are entered by the user."
   ]
  },
  {
   "cell_type": "code",
   "execution_count": 15,
   "metadata": {},
   "outputs": [
    {
     "name": "stdout",
     "output_type": "stream",
     "text": [
      "Price of regular bread: $3.50\n",
      "Price of day old bread: $2.10\n",
      "Total price: $5.60\n"
     ]
    }
   ],
   "source": [
    "regular_bread = int(input(\"Enter the no. of loaves of regular bread: \"))\n",
    "day_old_bread = int(input(\"Enter no. of loaves of day old bread: \"))\n",
    "\n",
    "print(f\"Price of regular bread: $3.50\\nPrice of day old bread: ${3.5 * 0.6:.2f}\\nTotal price: ${3.5 * regular_bread + 3.5 * 0.6 * day_old_bread:.2f}\")"
   ]
  }
 ],
 "metadata": {
  "kernelspec": {
   "display_name": "Python 3",
   "language": "python",
   "name": "python3"
  },
  "language_info": {
   "codemirror_mode": {
    "name": "ipython",
    "version": 3
   },
   "file_extension": ".py",
   "mimetype": "text/x-python",
   "name": "python",
   "nbconvert_exporter": "python",
   "pygments_lexer": "ipython3",
   "version": "3.11.8"
  }
 },
 "nbformat": 4,
 "nbformat_minor": 2
}
