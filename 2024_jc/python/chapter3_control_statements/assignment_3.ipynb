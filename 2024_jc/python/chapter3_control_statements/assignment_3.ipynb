{
 "cells": [
  {
   "cell_type": "markdown",
   "metadata": {},
   "source": [
    "# Question 1 \n",
    "\n",
    "The factorial of an integer N is the product of all of the integers between 1 and N, inclusive. Write a program that computes the factorial of a given integer N."
   ]
  },
  {
   "cell_type": "code",
   "execution_count": 1,
   "metadata": {},
   "outputs": [
    {
     "name": "stdout",
     "output_type": "stream",
     "text": [
      "6\n"
     ]
    }
   ],
   "source": [
    "N = int(input(\"Enter a integer: \"))\n",
    "factorial = 1\n",
    "\n",
    "for i in range(1, N + 1):\n",
    "    factorial *= i\n",
    "\n",
    "print(factorial)"
   ]
  },
  {
   "cell_type": "markdown",
   "metadata": {},
   "source": [
    "# Question 2\n",
    "\n",
    "Write a program that reads a word and print the number of letters in the word, the number of vowels in the word, and the percentage of vowels.\n",
    "\n",
    "Enter a word: sequoia, Letters: 7, Vowels: 5, Percentage of vowels: 71.43"
   ]
  },
  {
   "cell_type": "code",
   "execution_count": 3,
   "metadata": {},
   "outputs": [
    {
     "name": "stdout",
     "output_type": "stream",
     "text": [
      "Letters: 7\n",
      "Vowels: 5\n",
      "71.43%\n"
     ]
    }
   ],
   "source": [
    "word = input(\"Enter a word: \").lower()\n",
    "\n",
    "print(f\"Letters: {len(word)}\")\n",
    "vowels = 0\n",
    "for char in word:\n",
    "    if char in [\"a\", \"e\", \"i\", \"o\", \"u\"]:\n",
    "        vowels += 1\n",
    "print(f\"Vowels: {vowels}\")\n",
    "print(f\"Percentage of vowels: {vowels/len(word) * 100:.2f}%\")"
   ]
  },
  {
   "cell_type": "markdown",
   "metadata": {},
   "source": [
    "# Question 3\n",
    "\n",
    "Write a program that inputs a positive integer n and then prints a rectangle of asterisks n lines high and 2n columns wide."
   ]
  },
  {
   "cell_type": "code",
   "execution_count": 6,
   "metadata": {},
   "outputs": [
    {
     "name": "stdout",
     "output_type": "stream",
     "text": [
      "**********\n",
      "*        *\n",
      "*        *\n",
      "*        *\n",
      "**********\n"
     ]
    }
   ],
   "source": [
    "n = int(input(\"Enter a integer: \"))\n",
    "\n",
    "print(\"*\" * 2 * n)\n",
    "for i in range(1, n - 1):\n",
    "    print(\"*\" + \" \" * (n * 2 - 2 )+ \"*\")\n",
    "print(\"*\" * 2 * n)"
   ]
  },
  {
   "cell_type": "markdown",
   "metadata": {},
   "source": [
    "# Question 4\n",
    "\n",
    "The sum of the divisors of the number 15 is 24 (1 + 3 + 5 + 15). Write a program that will print the sum of the divisors for each of the integers from 100 to 110. The final line of the printout should state which integer has the largest sum."
   ]
  },
  {
   "cell_type": "code",
   "execution_count": 16,
   "metadata": {},
   "outputs": [
    {
     "name": "stdout",
     "output_type": "stream",
     "text": [
      "100: 1 2 4 5 10 20 25 50 100 \n",
      "Sum of divisors: 217\n",
      "\n",
      "101: 1 101 \n",
      "Sum of divisors: 102\n",
      "\n",
      "102: 1 2 3 6 17 34 51 102 \n",
      "Sum of divisors: 216\n",
      "\n",
      "103: 1 103 \n",
      "Sum of divisors: 104\n",
      "\n",
      "104: 1 2 4 8 13 26 52 104 \n",
      "Sum of divisors: 210\n",
      "\n",
      "105: 1 3 5 7 15 21 35 105 \n",
      "Sum of divisors: 192\n",
      "\n",
      "106: 1 2 53 106 \n",
      "Sum of divisors: 162\n",
      "\n",
      "107: 1 107 \n",
      "Sum of divisors: 108\n",
      "\n",
      "108: 1 2 3 4 6 9 12 18 27 36 54 108 \n",
      "Sum of divisors: 280\n",
      "\n",
      "109: 1 109 \n",
      "Sum of divisors: 110\n",
      "\n",
      "110: 1 2 5 10 11 22 55 110 \n",
      "Sum of divisors: 216\n",
      "\n",
      "108 has the largest sum of divisors.\n"
     ]
    }
   ],
   "source": [
    "largest_sum_int = 0\n",
    "largest_sum = 0\n",
    "\n",
    "for i in range(100, 111):\n",
    "    sum_of_divisors = 0\n",
    "    print(f\"{i}:\", end = \" \")\n",
    "    for j in range (1, i + 1):\n",
    "        if i % j == 0:\n",
    "            print(j, end = \" \")\n",
    "            sum_of_divisors += j\n",
    "            \n",
    "    \n",
    "    if sum_of_divisors > largest_sum:\n",
    "        largest_sum = sum_of_divisors\n",
    "        largest_sum_int = i\n",
    "        \n",
    "    print(f\"\\nSum of divisors: {sum_of_divisors}\\n\")\n",
    "\n",
    "print(f\"{largest_sum_int} has the largest sum of divisors.\")"
   ]
  },
  {
   "cell_type": "markdown",
   "metadata": {},
   "source": [
    "# Question 5\n",
    "\n",
    "In the game of Lucky Sevens, the player rolls a pair of dice. If the dots add up to 7, the player wins $4; otherwise, the player loses $1. Suppose that a casino tells player that there are lots of ways to win: (1, 6), (2, 5), etc. Write a program that takes as input the amount of money that the player wants to put into the pot, and play the game until the pot is empty. At that point, the program should print the number of rolls it took to break the player, as well as maximum amount of money in the pot."
   ]
  },
  {
   "cell_type": "code",
   "execution_count": 26,
   "metadata": {},
   "outputs": [
    {
     "name": "stdout",
     "output_type": "stream",
     "text": [
      "No. of rolls: 11855\n"
     ]
    }
   ],
   "source": [
    "from random import randint\n",
    "\n",
    "pot = int(input(\"Enter how much money you want to put in the pot: \"))\n",
    "rolls = 0\n",
    "\n",
    "while pot != 0 or pot > 0:\n",
    "    dice = randint(1, 6) + randint(1, 6)\n",
    "\n",
    "    if dice == 7:\n",
    "        pot += 4\n",
    "    else:\n",
    "        pot -= 1\n",
    "        \n",
    "    rolls += 1\n",
    "    \n",
    "    \n",
    "print(f\"No. of rolls: {rolls}\")\n",
    "\n"
   ]
  },
  {
   "cell_type": "markdown",
   "metadata": {},
   "source": [
    "# Question 6\n",
    "\n",
    "Guess My Number Game (Design the program for both versions)"
   ]
  },
  {
   "cell_type": "markdown",
   "metadata": {},
   "source": [
    "Version A: the computer picks a random number between 1 and 100 that the player has to guess. For each guess, the computer must tell the player if the number is too small or too large for the actual number. When the player gets the number, the program will display the number of tries that the player used. A sample output is shown below."
   ]
  },
  {
   "cell_type": "code",
   "execution_count": null,
   "metadata": {},
   "outputs": [],
   "source": [
    "from random import randint\n",
    "\n",
    "tries = 0\n",
    "\n",
    "ans = randint (1,100)\n",
    "guess = int(input(\"Enter your guess: \"))\n",
    "\n",
    "while guess != ans:\n",
    "    if guess < ans:\n",
    "        print(\"Your guess is too small!\")\n",
    "    else:\n",
    "        print(\"Your guess is too large!\")\n",
    "    tries += 1\n",
    "    guess = int(input(\"Enter your guess: \"))\n",
    "\n",
    "print(f\"{ans} is correct! No. of guesses: {tries}\")"
   ]
  },
  {
   "cell_type": "markdown",
   "metadata": {},
   "source": [
    "Version B: The player and the computer trade places. That is, the player picks a random number between 1 and 100 that the computer has to guess. Before you start, think about how the computer will guess."
   ]
  },
  {
   "cell_type": "code",
   "execution_count": 30,
   "metadata": {},
   "outputs": [
    {
     "name": "stdout",
     "output_type": "stream",
     "text": [
      "42 is correct! No. of guesses: 6\n",
      "54 is correct! No. of guesses: 5\n",
      "78 is correct! No. of guesses: 4\n",
      "10 is correct! No. of guesses: 5\n",
      "90 is correct! No. of guesses: 6\n",
      "2 is correct! No. of guesses: 6\n",
      "92 is correct! No. of guesses: 5\n",
      "29 is correct! No. of guesses: 5\n",
      "56 is correct! No. of guesses: 3\n",
      "2 is correct! No. of guesses: 6\n",
      "20 is correct! No. of guesses: 6\n",
      "81 is correct! No. of guesses: 3\n",
      "18 is correct! No. of guesses: 3\n",
      "11 is correct! No. of guesses: 6\n",
      "22 is correct! No. of guesses: 6\n",
      "93 is correct! No. of guesses: 6\n",
      "14 is correct! No. of guesses: 6\n",
      "49 is correct! No. of guesses: 6\n",
      "89 is correct! No. of guesses: 5\n",
      "23 is correct! No. of guesses: 5\n",
      "23 is correct! No. of guesses: 5\n",
      "100 is correct! No. of guesses: 6\n",
      "18 is correct! No. of guesses: 3\n",
      "64 is correct! No. of guesses: 6\n",
      "16 is correct! No. of guesses: 5\n",
      "58 is correct! No. of guesses: 6\n",
      "53 is correct! No. of guesses: 4\n",
      "86 is correct! No. of guesses: 5\n",
      "86 is correct! No. of guesses: 5\n",
      "76 is correct! No. of guesses: 5\n",
      "50 is correct! No. of guesses: 0\n",
      "20 is correct! No. of guesses: 6\n",
      "53 is correct! No. of guesses: 4\n",
      "15 is correct! No. of guesses: 4\n",
      "17 is correct! No. of guesses: 6\n",
      "72 is correct! No. of guesses: 6\n",
      "77 is correct! No. of guesses: 6\n",
      "86 is correct! No. of guesses: 5\n",
      "98 is correct! No. of guesses: 6\n",
      "23 is correct! No. of guesses: 5\n",
      "95 is correct! No. of guesses: 5\n",
      "93 is correct! No. of guesses: 6\n",
      "76 is correct! No. of guesses: 5\n",
      "20 is correct! No. of guesses: 6\n",
      "88 is correct! No. of guesses: 2\n",
      "42 is correct! No. of guesses: 6\n",
      "48 is correct! No. of guesses: 5\n",
      "11 is correct! No. of guesses: 6\n",
      "44 is correct! No. of guesses: 5\n",
      "58 is correct! No. of guesses: 6\n",
      "80 is correct! No. of guesses: 6\n",
      "92 is correct! No. of guesses: 5\n",
      "37 is correct! No. of guesses: 2\n",
      "75 is correct! No. of guesses: 1\n",
      "16 is correct! No. of guesses: 5\n",
      "64 is correct! No. of guesses: 6\n",
      "61 is correct! No. of guesses: 6\n",
      "93 is correct! No. of guesses: 6\n",
      "45 is correct! No. of guesses: 6\n",
      "40 is correct! No. of guesses: 4\n",
      "12 is correct! No. of guesses: 2\n",
      "81 is correct! No. of guesses: 3\n",
      "80 is correct! No. of guesses: 6\n",
      "19 is correct! No. of guesses: 5\n",
      "64 is correct! No. of guesses: 6\n",
      "35 is correct! No. of guesses: 5\n",
      "93 is correct! No. of guesses: 6\n",
      "10 is correct! No. of guesses: 5\n",
      "37 is correct! No. of guesses: 2\n",
      "44 is correct! No. of guesses: 5\n",
      "1 is correct! No. of guesses: 5\n",
      "92 is correct! No. of guesses: 5\n",
      "76 is correct! No. of guesses: 5\n",
      "62 is correct! No. of guesses: 2\n",
      "90 is correct! No. of guesses: 6\n",
      "2 is correct! No. of guesses: 6\n",
      "20 is correct! No. of guesses: 6\n",
      "53 is correct! No. of guesses: 4\n",
      "45 is correct! No. of guesses: 6\n",
      "42 is correct! No. of guesses: 6\n",
      "70 is correct! No. of guesses: 6\n",
      "79 is correct! No. of guesses: 5\n",
      "88 is correct! No. of guesses: 2\n",
      "48 is correct! No. of guesses: 5\n",
      "64 is correct! No. of guesses: 6\n",
      "80 is correct! No. of guesses: 6\n",
      "7 is correct! No. of guesses: 5\n",
      "70 is correct! No. of guesses: 6\n",
      "97 is correct! No. of guesses: 4\n",
      "36 is correct! No. of guesses: 6\n",
      "34 is correct! No. of guesses: 4\n",
      "30 is correct! No. of guesses: 6\n",
      "39 is correct! No. of guesses: 6\n",
      "28 is correct! No. of guesses: 4\n",
      "10 is correct! No. of guesses: 5\n",
      "54 is correct! No. of guesses: 5\n",
      "8 is correct! No. of guesses: 6\n",
      "91 is correct! No. of guesses: 4\n",
      "62 is correct! No. of guesses: 2\n",
      "17 is correct! No. of guesses: 6\n",
      "Average tries: 4.95\n"
     ]
    }
   ],
   "source": [
    "from random import randint\n",
    "\n",
    "def guesser_1():\n",
    "    # ans = int(input(\"Enter a number for the computer to guess: \"))\n",
    "    ans = randint(1, 100)\n",
    "    tries = 0\n",
    "    guess = randint(1, 100)\n",
    "\n",
    "    while guess != ans:\n",
    "        if guess < ans:\n",
    "            guess += 1\n",
    "        else:\n",
    "            guess -= 1\n",
    "        tries += 1\n",
    "        \n",
    "    print(f\"{ans} is correct! No. of guesses: {tries}\")\n",
    "    return tries\n",
    "    \n",
    "def guesser_2(): # Binary search algo\n",
    "    ans = randint(1, 100)\n",
    "    tries = 0\n",
    "    low = 1\n",
    "    high = 100\n",
    "    \n",
    "    guess = (low + high) // 2\n",
    "    \n",
    "    while guess != ans:\n",
    "        tries += 1\n",
    "        if guess < ans:\n",
    "            low = guess + 1\n",
    "        elif guess > ans:\n",
    "            high = guess - 1\n",
    "        guess = (low + high) // 2\n",
    "        \n",
    "    print(f\"{ans} is correct! No. of guesses: {tries}\")\n",
    "    return tries\n",
    "\n",
    "test_count = 100\n",
    "total_tries = 0\n",
    "\n",
    "for i in range(test_count):\n",
    "    total_tries += guesser_2()\n",
    "    \n",
    "print(f\"Average tries: {total_tries / test_count}\")"
   ]
  }
 ],
 "metadata": {
  "kernelspec": {
   "display_name": "Python 3",
   "language": "python",
   "name": "python3"
  },
  "language_info": {
   "codemirror_mode": {
    "name": "ipython",
    "version": 3
   },
   "file_extension": ".py",
   "mimetype": "text/x-python",
   "name": "python",
   "nbconvert_exporter": "python",
   "pygments_lexer": "ipython3",
   "version": "3.11.8"
  }
 },
 "nbformat": 4,
 "nbformat_minor": 2
}
