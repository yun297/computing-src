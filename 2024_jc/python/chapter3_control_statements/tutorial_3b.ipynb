{
 "cells": [
  {
   "cell_type": "markdown",
   "metadata": {},
   "source": [
    "# Question 1"
   ]
  },
  {
   "cell_type": "code",
   "execution_count": 1,
   "metadata": {},
   "outputs": [
    {
     "name": "stdout",
     "output_type": "stream",
     "text": [
      "1 2 3 4 5 1 2 3 1 3 5 6 5 4 3 2 "
     ]
    }
   ],
   "source": [
    "for count in range(5):\n",
    "    print (count+1, end=\" \")\n",
    "\n",
    "for count in range(1, 4):\n",
    "    print (count, end=\" \")\n",
    "\n",
    "for count in range(1, 6, 2):\n",
    "    print (count, end=\" \")\n",
    "\n",
    "for count in range(6, 1, -1):\n",
    "    print (count, end=\" \")"
   ]
  },
  {
   "cell_type": "markdown",
   "metadata": {},
   "source": [
    "# Question 2"
   ]
  },
  {
   "cell_type": "code",
   "execution_count": null,
   "metadata": {},
   "outputs": [],
   "source": [
    "for i in range(1, 129):\n",
    "    print(i, chr(i))"
   ]
  },
  {
   "cell_type": "markdown",
   "metadata": {},
   "source": [
    "# Question 3"
   ]
  },
  {
   "cell_type": "code",
   "execution_count": 2,
   "metadata": {},
   "outputs": [
    {
     "name": "stdout",
     "output_type": "stream",
     "text": [
      "n 110\n",
      "i 105\n",
      "g 103\n",
      "g 103\n",
      "a 97\n"
     ]
    }
   ],
   "source": [
    "testString = \"nigga\"\n",
    "\n",
    "for char in testString:\n",
    "    print(char, ord(char))"
   ]
  },
  {
   "cell_type": "markdown",
   "metadata": {},
   "source": [
    "# Question 4"
   ]
  },
  {
   "cell_type": "code",
   "execution_count": null,
   "metadata": {},
   "outputs": [],
   "source": [
    "no_of_spaces = 0\n",
    "string = \"\"\n",
    "\n",
    "for char in string:\n",
    "    if char == \" \":\n",
    "        no_of_spaces += 1\n",
    "\n",
    "print(no_of_spaces)"
   ]
  },
  {
   "cell_type": "markdown",
   "metadata": {},
   "source": [
    "# Question 5"
   ]
  },
  {
   "cell_type": "code",
   "execution_count": 16,
   "metadata": {},
   "outputs": [
    {
     "name": "stdout",
     "output_type": "stream",
     "text": [
      "1.0\n",
      "-0.3333333333333333\n",
      "0.6666666666666667\n"
     ]
    }
   ],
   "source": [
    "iteration = int(input(\"Enter the no. of iterations: \"))\n",
    "result = 0.0\n",
    "\n",
    "for i in range(1, iteration + 1):\n",
    "    result += (-1)**(i - 1) * (1/(i * 2 - 1))\n",
    "    \n",
    "print(result)"
   ]
  },
  {
   "cell_type": "markdown",
   "metadata": {},
   "source": [
    "# Question 6"
   ]
  },
  {
   "cell_type": "code",
   "execution_count": null,
   "metadata": {},
   "outputs": [],
   "source": [
    "noon_temps = []\n",
    "sum = 0.0\n",
    "\n",
    "for temp in noon_temps:\n",
    "    if noon_temps > 0:\n",
    "        sum += noon_temps\n",
    "\n",
    "print(sum/len(noon_temps))"
   ]
  },
  {
   "cell_type": "markdown",
   "metadata": {},
   "source": [
    "# Question 7"
   ]
  },
  {
   "cell_type": "code",
   "execution_count": 10,
   "metadata": {},
   "outputs": [
    {
     "name": "stdout",
     "output_type": "stream",
     "text": [
      "    1   2   3   4   5   6   7   \n",
      "1   1   \n",
      "2   2   4   \n",
      "3   3   6   9   \n",
      "4   4   8   12  16  \n",
      "5   5   10  15  20  25  \n",
      "6   6   12  18  24  30  36  \n",
      "7   7   14  21  28  35  42  49  \n"
     ]
    },
    {
     "ename": "",
     "evalue": "",
     "output_type": "error",
     "traceback": [
      "\u001b[1;31mThe Kernel crashed while executing code in the current cell or a previous cell. \n",
      "\u001b[1;31mPlease review the code in the cell(s) to identify a possible cause of the failure. \n",
      "\u001b[1;31mClick <a href='https://aka.ms/vscodeJupyterKernelCrash'>here</a> for more info. \n",
      "\u001b[1;31mView Jupyter <a href='command:jupyter.viewOutput'>log</a> for further details."
     ]
    }
   ],
   "source": [
    "num = int(input(\"Enter a number: \"))\n",
    "\n",
    "\n",
    "for i in range(0, num + 1):\n",
    "    if i == 0:\n",
    "        print(\"    \", end = \"\")\n",
    "    else:\n",
    "        print(f\"{i:<4}\", end = \"\")\n",
    "print()\n",
    "\n",
    "for row in range(1, num + 1):\n",
    "    print(f\"{row:<4}\", end = \"\")\n",
    "    for col in range(1, row + 1):\n",
    "        print(f\"{row * col:<4}\", end = \"\")\n",
    "    print()"
   ]
  }
 ],
 "metadata": {
  "kernelspec": {
   "display_name": "Python 3",
   "language": "python",
   "name": "python3"
  },
  "language_info": {
   "codemirror_mode": {
    "name": "ipython",
    "version": 3
   },
   "file_extension": ".py",
   "mimetype": "text/x-python",
   "name": "python",
   "nbconvert_exporter": "python",
   "pygments_lexer": "ipython3",
   "version": "3.11.8"
  }
 },
 "nbformat": 4,
 "nbformat_minor": 2
}
