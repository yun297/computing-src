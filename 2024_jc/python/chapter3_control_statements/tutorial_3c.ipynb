{
 "cells": [
  {
   "cell_type": "markdown",
   "metadata": {},
   "source": [
    "# Question 1"
   ]
  },
  {
   "cell_type": "code",
   "execution_count": 12,
   "metadata": {},
   "outputs": [
    {
     "name": "stdout",
     "output_type": "stream",
     "text": [
      "2  asdjaklsd  $4.0\n",
      "\n",
      "3  kajsdhask  $9.0\n",
      "\n",
      "4  asjkdhakjsdh $16.0\n",
      "\n",
      "Total bill:   $29.00\n"
     ]
    }
   ],
   "source": [
    "item_name = \"\"\n",
    "total = 0\n",
    "\n",
    "item_name = input(\"Enter item name or \\\"xyz\\\" to stop: \" )\n",
    "\n",
    "while item_name != \"xyz\":\n",
    "    item_price = float(input(\"Enter price per item: \"))\n",
    "    qty = int(input(\"Enter quantity: \"))\n",
    "    subtotal = item_price * qty\n",
    "    total += item_price * qty\n",
    "    print(f\"{qty:<3}{item_name:<10} ${round(subtotal, 2)}\", end = \"\\n\\n\")\n",
    "    item_name = input(\"Enter item name or \\\"xyz\\\" to stop: \" )\n",
    "\n",
    "print(f\"Total bill:   ${total:.2f}\")"
   ]
  },
  {
   "cell_type": "markdown",
   "metadata": {},
   "source": [
    "# Question 2"
   ]
  },
  {
   "cell_type": "code",
   "execution_count": 1,
   "metadata": {},
   "outputs": [
    {
     "name": "stdout",
     "output_type": "stream",
     "text": [
      "4\n"
     ]
    }
   ],
   "source": [
    "a = int(input(\"Enter the first number, A: \"))\n",
    "b = int(input(\"Ente the second number, B: \"))\n",
    "\n",
    "remainder = max(a, b) % min(a, b)\n",
    "\n",
    "while remainder != 0:\n",
    "    a, b = min(a, b), remainder # replace a (larger number) with smaller number and replace b (smaller number) with the remainder\n",
    "    remainder = a % b\n",
    "\n",
    "print(b)"
   ]
  }
 ],
 "metadata": {
  "kernelspec": {
   "display_name": "Python 3",
   "language": "python",
   "name": "python3"
  },
  "language_info": {
   "codemirror_mode": {
    "name": "ipython",
    "version": 3
   },
   "file_extension": ".py",
   "mimetype": "text/x-python",
   "name": "python",
   "nbconvert_exporter": "python",
   "pygments_lexer": "ipython3",
   "version": "3.11.8"
  }
 },
 "nbformat": 4,
 "nbformat_minor": 2
}
