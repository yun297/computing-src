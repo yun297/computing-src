{
 "cells": [
  {
   "cell_type": "markdown",
   "metadata": {},
   "source": [
    "# Question 1"
   ]
  },
  {
   "cell_type": "code",
   "execution_count": null,
   "metadata": {},
   "outputs": [],
   "source": [
    "print(not ((4.5 < 12.9) and (6 * 2 >= 13)))\n",
    "print(not ((4.5 < 12.9) or (6 * 2 >= 13)))\n",
    "print((0 == 1) or (2 < 3) and (7 < 6))\n",
    "print((2 < 3) or (0 == 1) and (7 < 6))\n",
    "print((50 < 100) and ('100' < '1034'))"
   ]
  },
  {
   "cell_type": "markdown",
   "metadata": {},
   "source": [
    "# Question 4"
   ]
  },
  {
   "cell_type": "code",
   "execution_count": 6,
   "metadata": {},
   "outputs": [
    {
     "name": "stdout",
     "output_type": "stream",
     "text": [
      "High\n"
     ]
    }
   ],
   "source": [
    "bmi = float(input(\"What is your BMI? \"))\n",
    "age = int(input(\"What is your age? \"))\n",
    "\n",
    "if age < 45:\n",
    "    if bmi < 22.0:\n",
    "        print(\"Low\")\n",
    "    elif bmi >= 22.0:\n",
    "        print(\"Medium\")\n",
    "elif age >= 45:\n",
    "    if bmi < 22.0:\n",
    "        print(\"Medium\")\n",
    "    elif bmi >= 22.0:\n",
    "        print(\"High\")"
   ]
  },
  {
   "cell_type": "markdown",
   "metadata": {},
   "source": [
    "# Question 5"
   ]
  },
  {
   "cell_type": "code",
   "execution_count": null,
   "metadata": {},
   "outputs": [],
   "source": [
    "p1_choice = input(\"Player 1 enter your choice: \").lower()\n",
    "p2_choice = input(\"Player 2 enter your choice: \").lower()\n",
    "\n",
    "if p1_choice == \"r\":\n",
    "    if p2_choice == \"r\":\n",
    "        print(\"Tie\")\n",
    "    elif p2_choice == \"p\":\n",
    "        print(\"P2 Win\")\n",
    "    elif p2_choice == \"s\":\n",
    "        print(\"P1 Win\")\n",
    "elif p1_choice == \"p\":\n",
    "    if p2_choice == \"r\":\n",
    "        print(\"P1 Win\")\n",
    "    elif p2_choice == \"p\":\n",
    "        print(\"Tie\")\n",
    "    elif p2_choice == \"s\":\n",
    "        print(\"P2 Win\")\n",
    "elif p1_choice == \"s\":\n",
    "    if p2_choice == \"r\":\n",
    "        print(\"P2 Win\")\n",
    "    elif p2_choice == \"p\":\n",
    "        print(\"P1 Win\")\n",
    "    elif p2_choice == \"s\":\n",
    "        print(\"Tie\")"
   ]
  }
 ],
 "metadata": {
  "kernelspec": {
   "display_name": "Python 3",
   "language": "python",
   "name": "python3"
  },
  "language_info": {
   "codemirror_mode": {
    "name": "ipython",
    "version": 3
   },
   "file_extension": ".py",
   "mimetype": "text/x-python",
   "name": "python",
   "nbconvert_exporter": "python",
   "pygments_lexer": "ipython3",
   "version": "3.11.8"
  }
 },
 "nbformat": 4,
 "nbformat_minor": 2
}
