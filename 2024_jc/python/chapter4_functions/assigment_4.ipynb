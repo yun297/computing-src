{
 "cells": [
  {
   "cell_type": "markdown",
   "metadata": {},
   "source": [
    "# Question 1\n",
    "\n",
    "Write a recursive function that accepts an integer argument, n. The function should display n lines of asterisks on the screen, with the first line showing 1 asterisk, the second line showing 2 asterisks, up to the nth line which shows n asterisks."
   ]
  },
  {
   "cell_type": "code",
   "execution_count": 4,
   "metadata": {},
   "outputs": [
    {
     "name": "stdout",
     "output_type": "stream",
     "text": [
      "*\n",
      "**\n",
      "***\n",
      "****\n",
      "*****\n"
     ]
    }
   ],
   "source": [
    "def print_asterisks(n):\n",
    "    if n > 0:\n",
    "        print_asterisks(n - 1)\n",
    "        print(\"*\" * n)\n",
    "\n",
    "print_asterisks(5)"
   ]
  },
  {
   "cell_type": "markdown",
   "metadata": {},
   "source": [
    "# Question 2\n",
    "\n",
    "Write a recursive function that accepts two integer arguments, low and high. The function should return the sum of the numbers from low up to high. For example, if 2 and 10 are passed as arguments, the function will return the sum of 2, 3, 4, ..., 10."
   ]
  },
  {
   "cell_type": "code",
   "execution_count": 9,
   "metadata": {},
   "outputs": [
    {
     "name": "stdout",
     "output_type": "stream",
     "text": [
      "55\n"
     ]
    }
   ],
   "source": [
    "def foo(low, high):\n",
    "    if low <= high:\n",
    "        return low + foo(low + 1, high)\n",
    "    else:\n",
    "        return 0\n",
    "        \n",
    "print(foo(1, 10))\n"
   ]
  },
  {
   "cell_type": "markdown",
   "metadata": {},
   "source": [
    "# Question 3\n",
    "\n",
    "Write a program that asks the user to enter 3 test scores. The program should display a letter grade for each score and the average test score. Write the following functions in the program:\n",
    "\n",
    "1. calc_average -- This function should accept three test scores as arguments\n",
    "and return the average of the scores.\n",
    "2. determine_grade -- This function should accept a test score as an argument and return a letter grade for the score, based on the following grading scale:"
   ]
  },
  {
   "cell_type": "code",
   "execution_count": null,
   "metadata": {},
   "outputs": [],
   "source": [
    "score_1 = int(input(\"Enter score 1: \"))\n",
    "score_2 = int(input(\"Enter score 2: \"))\n",
    "score_3 = int(input(\"Enter score 3: \"))\n",
    "\n",
    "def calc_average(score_1, score_2, score_3):\n",
    "    return (score_1 + score_2 + score_3) / 3\n",
    "\n",
    "def determine_grade(score):\n",
    "    if score in range(90, 101):\n",
    "        return \"A\"\n",
    "    elif score in range(80, 90):\n",
    "        return \"B\"\n",
    "    elif score in range(70, 80):\n",
    "        return \"C\"\n",
    "    elif score in range(60, 70):\n",
    "        return \"D\"\n",
    "    else:\n",
    "        return \"F\""
   ]
  },
  {
   "cell_type": "markdown",
   "metadata": {},
   "source": [
    "# Question 4\n",
    "\n",
    "Write a menu-driven automatic teller program in which the user’s bank balance is initialized to $1,000. The user should be allowed to perform as many transactions as he or she wishes from the menu.\n",
    "\n",
    "1. Deposit\n",
    "2. Withdrawal\n",
    "3. See balance\n",
    "4. Quit\n",
    "\n",
    "For the withdrawal option, the user should be prompted to select from the choices $50, $100, $200, and $500. (Do not allow user to overdraw.) After each transaction, the program should print the current balance. On exiting, the program should print a courteous message. In this program, design a function for each option."
   ]
  },
  {
   "cell_type": "code",
   "execution_count": 4,
   "metadata": {},
   "outputs": [
    {
     "name": "stdout",
     "output_type": "stream",
     "text": [
      "Choose an option:\n",
      "1 | Deposit\n",
      "2 | Withdrawal\n",
      "3 | See balance\n",
      "4 | Quit\n",
      "<bound method BankAccount.see_balance of <__main__.BankAccount object at 0x00000267F52839D0>>\n"
     ]
    }
   ],
   "source": [
    "class BankAccount:\n",
    "    def __init__(self, balance = 0) -> None:\n",
    "        self.balance = balance\n",
    "    \n",
    "    def deposit(self, amount):\n",
    "        self.balance += amount\n",
    "        return f\"${amount} has been deposited into your account!\"\n",
    "        \n",
    "    def withdraw(self, amount):\n",
    "        if amount <= self.balance:\n",
    "            self.balance -= amount\n",
    "            return f\"${amount} has been withdrawn from your account!\"\n",
    "        else:\n",
    "            return f\"You have insufficient funds! You have ${amount} left.\"\n",
    "    \n",
    "    def see_balance(self):\n",
    "        print(self.balance)\n",
    "    \n",
    "    def quit():\n",
    "        exit()\n",
    "    \n",
    "user_1 = BankAccount()\n",
    "\n",
    "def ui():\n",
    "    print(\"Choose an option:\\n1 | Deposit\\n2 | Withdrawal\\n3 | See balance\\n4 | Quit\")\n",
    "    user_option = int(input(\"Option: \"))\n",
    "    \n",
    "    if user_option == 1:\n",
    "        deposit_amount = int(input(\"Enter your deposit amount: $\"))\n",
    "        user_1.deposit(deposit_amount)\n",
    "        print(user_1.see_balance)\n",
    "    \n",
    "ui()"
   ]
  }
 ],
 "metadata": {
  "kernelspec": {
   "display_name": "Python 3",
   "language": "python",
   "name": "python3"
  },
  "language_info": {
   "codemirror_mode": {
    "name": "ipython",
    "version": 3
   },
   "file_extension": ".py",
   "mimetype": "text/x-python",
   "name": "python",
   "nbconvert_exporter": "python",
   "pygments_lexer": "ipython3",
   "version": "3.11.9"
  }
 },
 "nbformat": 4,
 "nbformat_minor": 2
}
