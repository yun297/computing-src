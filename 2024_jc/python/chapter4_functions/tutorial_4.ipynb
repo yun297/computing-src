{
 "cells": [
  {
   "cell_type": "markdown",
   "metadata": {},
   "source": [
    "# Question 1"
   ]
  },
  {
   "cell_type": "code",
   "execution_count": null,
   "metadata": {},
   "outputs": [],
   "source": [
    "# Explain what happens when the following recursive function is called with the value 4 as an argument:\n",
    "\n",
    "def example(n):\n",
    "  if n > 0:\n",
    "      print (n)\n",
    "      example(n)\n",
    "  else:\n",
    "      example(n-1)\n",
    "      \n",
    "example(4)\n",
    "\n",
    "# Ans: It will print 4 an infinite number of times till the PVM runs out of memory"
   ]
  },
  {
   "cell_type": "markdown",
   "metadata": {},
   "source": [
    "# Question: 2"
   ]
  },
  {
   "cell_type": "code",
   "execution_count": null,
   "metadata": {},
   "outputs": [],
   "source": [
    "# Explain what happens when the following recursive function is called with the values \"hello\" and 0 as arguments:\n",
    "\n",
    "def example(aString, index):\n",
    "    if index < len(aString):\n",
    "        example(aString, index+1)\n",
    "        print (aString[index])\n",
    "\n",
    "example(\"hello\", 0)\n",
    "\n",
    "# Ans: For each iteration of example(), it will print each character of aString in reverse"
   ]
  },
  {
   "cell_type": "markdown",
   "metadata": {},
   "source": [
    "# Question 3"
   ]
  },
  {
   "cell_type": "code",
   "execution_count": 2,
   "metadata": {},
   "outputs": [
    {
     "name": "stdout",
     "output_type": "stream",
     "text": [
      "hello\n"
     ]
    }
   ],
   "source": [
    "# Explain what happens when the following recursive function is called with the values \"hello\" and 0 as arguments:\n",
    "\n",
    "def example(aString, index):\n",
    "    if index == len(aString):\n",
    "        return \"\"\n",
    "    else:\n",
    "        return aString[index] + example(aString, index + 1)\n",
    "    \n",
    "print(example(\"hello\", 0))\n",
    "\n",
    "# Ans: for each iteration, it will print the corresponding character according to the index value, and recur the fuction with an increment of 1 to the index. This will cause the recurrence function to return each letter of the string till the index value reaches the length of the string, where the base case will simply return \"\""
   ]
  },
  {
   "cell_type": "markdown",
   "metadata": {},
   "source": [
    "# Question 4"
   ]
  },
  {
   "cell_type": "code",
   "execution_count": null,
   "metadata": {},
   "outputs": [],
   "source": [
    "# a) An iterative solution runs a program a specific number of times until a condition is met, while a recurrence solution repeats the same procedure within itself till a condition is met\n",
    "\n",
    "# b)"
   ]
  }
 ],
 "metadata": {
  "kernelspec": {
   "display_name": "Python 3",
   "language": "python",
   "name": "python3"
  },
  "language_info": {
   "codemirror_mode": {
    "name": "ipython",
    "version": 3
   },
   "file_extension": ".py",
   "mimetype": "text/x-python",
   "name": "python",
   "nbconvert_exporter": "python",
   "pygments_lexer": "ipython3",
   "version": "3.11.8"
  }
 },
 "nbformat": 4,
 "nbformat_minor": 2
}
