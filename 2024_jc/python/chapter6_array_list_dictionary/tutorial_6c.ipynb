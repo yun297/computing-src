{
 "cells": [
  {
   "cell_type": "markdown",
   "metadata": {},
   "source": [
    "### Question 1\n",
    "\n",
    "Assume that the variable `data` refers to the dictionary `{'b':20, 'a':35}`. Write the values of the following expressions:\n",
    "1. (a) `data['a']`\n",
    "2. (b) `data.get('c', None)`\n",
    "3. (c) `len(data)`\n",
    "4. (d) `list(data.keys())`\n",
    "5. (e) `list(data.values())`\n",
    "6. (f) `data.pop('b')`\n",
    "7. (g) `data` # After the pop above"
   ]
  },
  {
   "cell_type": "code",
   "execution_count": 6,
   "metadata": {},
   "outputs": [
    {
     "name": "stdout",
     "output_type": "stream",
     "text": [
      "35\n",
      "None\n",
      "2\n",
      "dict_keys(['b', 'a'])\n",
      "dict_values([20, 35])\n",
      "{'a': 35}\n"
     ]
    }
   ],
   "source": [
    "data = {'b':20, 'a':35}\n",
    "\n",
    "print(data['a']) # 35\n",
    "print(data.get('c', None)) # None\n",
    "print(len(data)) # 2\n",
    "print(data.keys()) # dict_keys(['b', 'a'])\n",
    "print(data.values()) # dict_values([20, 35])\n",
    "data.pop('b')\n",
    "print(data) # {'a': 35}"
   ]
  },
  {
   "cell_type": "markdown",
   "metadata": {},
   "source": [
    "Assume that the variable `data` refers to the dictionary `{'b':20, 'a':35}`. Write the expressions that perform the following tasks:\n",
    "1. (a) Replace the value at the key `'b'` in data with that value’s negation.\n",
    "2. (b) Add the key/value pair `'c':40` to `data`.\n",
    "3. (c) Remove the value at key `'b'` in `data`, safely.\n",
    "4. (d) Print the keys in `data` in alphabetical order."
   ]
  },
  {
   "cell_type": "code",
   "execution_count": 11,
   "metadata": {},
   "outputs": [
    {
     "name": "stdout",
     "output_type": "stream",
     "text": [
      "['a', 'c']\n",
      "{'a': 35, 'c': 40}\n"
     ]
    }
   ],
   "source": [
    "data = {'b':20, 'a':35}\n",
    "\n",
    "data['b'] = -data['b']\n",
    "data['c'] = 40\n",
    "data.pop('b')\n",
    "print(sorted(list(data.keys())))\n",
    "\n",
    "print(data)"
   ]
  },
  {
   "cell_type": "markdown",
   "metadata": {},
   "source": [
    "### Question 3\n",
    "\n",
    "Make a dictionary where the keys are the names of weight lifting exercises, and the values are the number of times you did that exercise. Use a for loop to print out a series of statements such as `\"I did 10 bench presses\"`."
   ]
  },
  {
   "cell_type": "code",
   "execution_count": 13,
   "metadata": {},
   "outputs": [
    {
     "name": "stdout",
     "output_type": "stream",
     "text": [
      "<class 'dict_items'>\n",
      "I did 10 bench presses\n",
      "I did 15 squats\n",
      "I did 12 deadlifts\n",
      "I did 20 bicep curls\n",
      "I did 18 tricep dips\n"
     ]
    }
   ],
   "source": [
    "exercise_dict = {\n",
    "    \"bench presses\": 10,\n",
    "    \"squats\": 15,\n",
    "    \"deadlifts\": 12,\n",
    "    \"bicep curls\": 20,\n",
    "    \"tricep dips\": 18\n",
    "}\n",
    "\n",
    "# print(type(exercise_dict.items()))\n",
    "\n",
    "for exercise, count in exercise_dict.items():\n",
    "    print(f\"I did {count} {exercise}\")"
   ]
  }
 ],
 "metadata": {
  "kernelspec": {
   "display_name": "Python 3",
   "language": "python",
   "name": "python3"
  },
  "language_info": {
   "codemirror_mode": {
    "name": "ipython",
    "version": 3
   },
   "file_extension": ".py",
   "mimetype": "text/x-python",
   "name": "python",
   "nbconvert_exporter": "python",
   "pygments_lexer": "ipython3",
   "version": "3.11.9"
  }
 },
 "nbformat": 4,
 "nbformat_minor": 2
}
