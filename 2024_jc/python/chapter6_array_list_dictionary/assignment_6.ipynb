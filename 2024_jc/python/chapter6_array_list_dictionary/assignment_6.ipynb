{
 "cells": [
  {
   "cell_type": "markdown",
   "metadata": {},
   "source": [
    "### Question 1\n",
    "\n",
    "Write a program that computes the median and mode of a set of numbers. It reads a list of numbers from a text file `numbers.txt` and print their median and mode."
   ]
  },
  {
   "cell_type": "code",
   "execution_count": 33,
   "metadata": {},
   "outputs": [
    {
     "name": "stdout",
     "output_type": "stream",
     "text": [
      "Mean: 543.5\n",
      "10\n",
      "Mediam: 381.0\n"
     ]
    }
   ],
   "source": [
    "# from random import randint\n",
    "\n",
    "# numbers = open('numbers.txt', 'w')\n",
    "\n",
    "# for i in range(11):\n",
    "#     numbers.write(str(randint(1, 1000)) + \"\\n\")\n",
    "\n",
    "# numbers.close()\n",
    "\n",
    "numbers = open('numbers.txt', 'r')\n",
    "\n",
    "total = 0\n",
    "idx = 0\n",
    "median = 0\n",
    "num_list = []\n",
    "\n",
    "for num in numbers:\n",
    "    total += int(num.strip())\n",
    "    num_list.append(int(num.strip()))\n",
    "    idx += 1\n",
    "\n",
    "num_list.sort()\n",
    "\n",
    "# print(sum)\n",
    "# print(idx)\n",
    "\n",
    "print(f\"Mean: {total/idx}\")\n",
    "\n",
    "if len(num_list) % 2 == 1:\n",
    "    print(num_list[len(num_list)//2])\n",
    "else:\n",
    "    print(len(num_list))\n",
    "    print(f\"Median: {(num_list[int(len(num_list)/2) - 1] + num_list[int(len(num_list)/2)]) / 2}\")"
   ]
  },
  {
   "cell_type": "markdown",
   "metadata": {},
   "source": [
    "### Question 2\n",
    "\n",
    "Write a program that allows the user to navigate the lines of text in a file. The program should prompt the user for a filename and input the lines of text into a list. The program then prints the number of lines in the file and prompts the user for a line number. Actual line numbers range from 1 to the number of lines in the file, If the input is zero, the program quits. Otherwise, the program prints the line associated with that number. Use `text.txt` to test your program."
   ]
  },
  {
   "cell_type": "code",
   "execution_count": 38,
   "metadata": {},
   "outputs": [
    {
     "name": "stdout",
     "output_type": "stream",
     "text": [
      "Number of lines: 25\n",
      "You\n"
     ]
    }
   ],
   "source": [
    "file = open(input(\"Enter name of the file\"), \"r\")\n",
    "\n",
    "lines = []\n",
    "line_count = 0\n",
    "\n",
    "for line in file:\n",
    "    lines.append(line.strip())\n",
    "    line_count += 1\n",
    "    \n",
    "    \n",
    "print(f\"Number of lines: {line_count}\")\n",
    "print(lines[int(input(\"Enter which line you want\")) - 1])"
   ]
  },
  {
   "cell_type": "markdown",
   "metadata": {},
   "source": [
    "### Question 3\n",
    "\n",
    "A Bingo card consists of 5 columns of 5 numbers. The columns are labelled with the letters `B`, `I`, `N`, `G`, and `O`. There are `15` numbers that can appear under each letter. The numbers that can appear under the `B` range from `1` to `15`, the numbers that can appear under the `I` range from `16` to `30`, the numbers that can appear under the `N` range is `31` to `45`, and so on. <br><br>\n",
    "\n",
    "Write a function that creates a **random** Bingo card and stores it in a dictionary. The keys will be the letters `B`, `I`, `N`, `G`, and `O`. The values will be the lists of five distinct numbers that appear under each letter.<br><br>\n",
    "\n",
    "Write a second function that displays the Bingo card with the column labelled appropriately. <br><br>\n",
    "\n",
    "Use these functions to write a program that displays a random Bingo card."
   ]
  },
  {
   "cell_type": "code",
   "execution_count": 68,
   "metadata": {},
   "outputs": [
    {
     "name": "stdout",
     "output_type": "stream",
     "text": [
      "\n",
      "+---+---+---+---+---+\n",
      "| B | I | N | G | O |\n",
      "+---+---+---+---+---+\n",
      "|10 |16 |40 |55 |69 |\n",
      "|15 |21 |45 |53 |61 |\n",
      "|15 |18 |43 |52 |70 |\n",
      "|9  |25 |31 |50 |63 |\n",
      "|15 |26 |42 |52 |61 |\n",
      "|10 |24 |43 |57 |63 |\n",
      "|9  |26 |33 |60 |71 |\n",
      "|5  |20 |41 |47 |63 |\n",
      "|11 |29 |38 |60 |62 |\n",
      "|8  |16 |44 |47 |61 |\n",
      "|13 |22 |44 |60 |61 |\n",
      "|1  |25 |43 |54 |68 |\n",
      "|9  |30 |45 |50 |71 |\n",
      "|9  |29 |39 |60 |75 |\n",
      "|4  |26 |44 |59 |68 |\n",
      "+---+---+---+---+---+\n"
     ]
    }
   ],
   "source": [
    "from random import randint\n",
    "\n",
    "def create_bingo():\n",
    "    bingo = {\n",
    "        \"B\": [randint(1, 15) for _ in range(15)],\n",
    "        \"I\": [randint(16, 30) for _ in range(15)],\n",
    "        \"N\": [randint(31, 45) for _ in range(15)],\n",
    "        \"G\": [randint(46, 60) for _ in range(15)],\n",
    "        \"O\": [randint(61, 75) for _ in range(15)],\n",
    "    }\n",
    "    \n",
    "    return bingo\n",
    "\n",
    "def display_bingo(bingo):\n",
    "    print(\"\\n+---+---+---+---+---+\")\n",
    "    print(\"|\", end = \"\")\n",
    "    \n",
    "    for key in list(bingo.keys()):\n",
    "        print(\" \" + key + \" |\", end = \"\")\n",
    "\n",
    "    print(\"\\n+---+---+---+---+---+\")\n",
    "    \n",
    "    for i in range(15):\n",
    "        print(\"|\", end = \"\")\n",
    "        for j in range(5):\n",
    "            print(f\"{list(bingo.values())[j][i]:<3}\", end = \"|\")\n",
    "        print()\n",
    "    \n",
    "    print(\"+---+---+---+---+---+\")\n",
    "\n",
    "bingo = create_bingo()\n",
    "\n",
    "display_bingo(bingo)\n",
    "\n"
   ]
  }
 ],
 "metadata": {
  "kernelspec": {
   "display_name": "Python 3",
   "language": "python",
   "name": "python3"
  },
  "language_info": {
   "codemirror_mode": {
    "name": "ipython",
    "version": 3
   },
   "file_extension": ".py",
   "mimetype": "text/x-python",
   "name": "python",
   "nbconvert_exporter": "python",
   "pygments_lexer": "ipython3",
   "version": "3.11.9"
  }
 },
 "nbformat": 4,
 "nbformat_minor": 2
}
