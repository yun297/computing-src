{
 "cells": [
  {
   "cell_type": "markdown",
   "metadata": {},
   "source": [
    "### Question 1\n",
    "\n",
    "A class has at most 40 students. Write a program, in pseudocode, that will read in the scores of an exam for each student in the class, finds and prints the class average and then prints each of the scores that are above the class average. For example, if the input scores are as follow:\n",
    "\n",
    "`70`  \n",
    "`80`  \n",
    "`71`  \n",
    "`58`  \n",
    "`79`  \n",
    "`92`  \n",
    "\n",
    "the output would be\n",
    "\n",
    "`class average: 75.0`  \n",
    "`scores above average: 80 79 92`"
   ]
  },
  {
   "cell_type": "markdown",
   "metadata": {},
   "source": [
    "### Question 2\n",
    "\n",
    "A basketball team with six players has played four games. Write a program, in pseudocode, that accepts each player’s name followed by the points scored by them in each of the four games. A typical input data is given below for one player.\n",
    "\n",
    "`Smith`<br>\n",
    "`12` `14` `7` `10`\n",
    "\n",
    "Then, print the raw data entered in a table form. Include in the table, each player’s scoring average, and the number of points scored by the team for each game."
   ]
  },
  {
   "cell_type": "markdown",
   "metadata": {},
   "source": [
    "### Question 3\n",
    "\n",
    "Write a program, in pseudocode, to read the name and the closing prices of several stocks for each weekday of last week into two parallel arrays. For each stock, the program should print the maximum and minimum price and the day it was achieved."
   ]
  }
 ],
 "metadata": {
  "kernelspec": {
   "display_name": "Python 3",
   "language": "python",
   "name": "python3"
  },
  "language_info": {
   "name": "python",
   "version": "3.11.9"
  }
 },
 "nbformat": 4,
 "nbformat_minor": 2
}
