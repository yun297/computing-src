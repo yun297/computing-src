{
 "cells": [
  {
   "cell_type": "markdown",
   "metadata": {},
   "source": [
    "### Question 1\n",
    "\n",
    "Assume that the variable data refers to the list `[5, 3, 7]`. Write the values of the following expressions:\n",
    "1. (a) `data[2]`\n",
    "2. (b) `data[-1]`\n",
    "3. (c) `len(data)`\n",
    "4. (d) `data[0:2]`\n",
    "5. (e) `0 in data`\n",
    "6. (f) `data + [2, 10, 5]`\n",
    "7. (g) `tuple(data)`"
   ]
  },
  {
   "cell_type": "code",
   "execution_count": 5,
   "metadata": {},
   "outputs": [
    {
     "name": "stdout",
     "output_type": "stream",
     "text": [
      "7\n",
      "7\n",
      "3\n",
      "[5, 3]\n",
      "False\n",
      "[5, 3, 7, 2, 10, 5]\n",
      "(5, 3, 7)\n"
     ]
    }
   ],
   "source": [
    "data = [5, 3, 7]\n",
    "\n",
    "print(data[2]) # 7\n",
    "print(data[-1]) # 7\n",
    "print(len(data)) # 3\n",
    "print(data[0:2]) # [5, 3]\n",
    "print(0 in data) # False\n",
    "print(data + [2, 10, 5]) # [5, 3, 7, 2, 10, 5]\n",
    "print(tuple(data)) # (5, 3, 7)"
   ]
  },
  {
   "cell_type": "markdown",
   "metadata": {},
   "source": [
    "### Question 2\n",
    "\n",
    "Assume that the variable `data` refers to the list [5, 3, 7]. Write the expression that perform the following tasks:<br>\n",
    "1. (a) Replace the value at position 0 in `data` with that value’s negation.\n",
    "2. (b) Add the value 10 to the end of `data`.\n",
    "3. (c) Insert the value 22 at position 2 in `data`.\n",
    "4. (d) Remove the value at position 1 in `data`.\n",
    "5. (e) Add the values in the list `newdata` to the end of the `data`.\n",
    "6. (f) Locate the index of the value 7 in `data`, safely.\n",
    "7. (g) Sort the values in `data`."
   ]
  },
  {
   "cell_type": "code",
   "execution_count": 12,
   "metadata": {},
   "outputs": [
    {
     "name": "stdout",
     "output_type": "stream",
     "text": [
      "2\n",
      "[-5, 1, 2, 3, 7, 10, 22]\n"
     ]
    }
   ],
   "source": [
    "data = [5, 3, 7]\n",
    "\n",
    "data[0] = -data[0]\n",
    "data.append(10)\n",
    "data.insert(2, 22)\n",
    "data.pop(1)\n",
    "\n",
    "newdata = [1, 2, 3]\n",
    "data += newdata\n",
    "\n",
    "print(data.index(7))\n",
    "data.sort()\n",
    "\n",
    "print(data)"
   ]
  },
  {
   "cell_type": "markdown",
   "metadata": {},
   "source": [
    "### Question 3\n",
    "\n",
    "Assume that data refers to a list of numbers, and result refers to an empty list. Write a loop that adds the nonzero values in data to the result list."
   ]
  },
  {
   "cell_type": "code",
   "execution_count": 13,
   "metadata": {},
   "outputs": [
    {
     "name": "stdout",
     "output_type": "stream",
     "text": [
      "[1, 5, 7, 0, -1, 2, 6, -5]\n"
     ]
    }
   ],
   "source": [
    "lst = [1, 5, 7, 0, -1, 2, 6, -5]\n",
    "\n",
    "newlst = []\n",
    "\n",
    "for num in lst:\n",
    "    newlst.append(num)\n",
    "    \n",
    "print(newlst)"
   ]
  },
  {
   "cell_type": "markdown",
   "metadata": {},
   "source": [
    "### Question 4\n",
    "\n",
    "Write a loop that replaces each number in a list named `data` with its absolute value."
   ]
  },
  {
   "cell_type": "code",
   "execution_count": 14,
   "metadata": {},
   "outputs": [
    {
     "name": "stdout",
     "output_type": "stream",
     "text": [
      "[1, 5, 7, 0, 1, 2, 6, 5]\n"
     ]
    }
   ],
   "source": [
    "data = [1, 5, 7, 0, -1, 2, 6, -5]\n",
    "\n",
    "for i in range(len(data)):\n",
    "    data[i] = abs(data[i])\n",
    "    \n",
    "print(data)"
   ]
  }
 ],
 "metadata": {
  "kernelspec": {
   "display_name": "Python 3",
   "language": "python",
   "name": "python3"
  },
  "language_info": {
   "codemirror_mode": {
    "name": "ipython",
    "version": 3
   },
   "file_extension": ".py",
   "mimetype": "text/x-python",
   "name": "python",
   "nbconvert_exporter": "python",
   "pygments_lexer": "ipython3",
   "version": "3.11.9"
  }
 },
 "nbformat": 4,
 "nbformat_minor": 2
}
