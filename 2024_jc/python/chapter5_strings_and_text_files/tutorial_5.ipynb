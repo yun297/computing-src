{
 "cells": [
  {
   "cell_type": "markdown",
   "metadata": {},
   "source": [
    "### Question 1\n",
    "\n",
    "1. (a) Replaces s1 with s2.\n",
    "2. (b) Appends s2 to s1."
   ]
  },
  {
   "cell_type": "code",
   "execution_count": null,
   "metadata": {},
   "outputs": [],
   "source": [
    "# s1 <- s2\n",
    "# s1 <- s1 + s2"
   ]
  },
  {
   "cell_type": "markdown",
   "metadata": {},
   "source": [
    "### Question 2\n",
    "\n",
    "Assume that the variable data refers to the string `\"myprogram.exe\"`. Write the values of the following expressions:\n",
    "\n",
    "1. (a) data[2]: `p`\n",
    "2. (b) data[-1]: `e`\n",
    "3. (c) len(data): `13`\n",
    "4. (d) data[0:8]: `myprogra`"
   ]
  },
  {
   "cell_type": "markdown",
   "metadata": {},
   "source": [
    "### Question 3\n",
    "\n",
    "Assume that the variable `data` refers to the string `\"myprogram.exe\"`. Write the expressions that perform the following tasks:\n",
    "\n",
    "1. Extract the substring \"gram\" from `data`.\n",
    "\n",
    "2. Truncate the extension \".exe\" from `data`.\n",
    "\n",
    "3. Extract the character at the middle position from `data`."
   ]
  },
  {
   "cell_type": "code",
   "execution_count": 9,
   "metadata": {},
   "outputs": [
    {
     "name": "stdout",
     "output_type": "stream",
     "text": [
      "gram\n",
      "myprogram\n",
      "g\n"
     ]
    },
    {
     "ename": "",
     "evalue": "",
     "output_type": "error",
     "traceback": [
      "\u001b[1;31mThe Kernel crashed while executing code in the current cell or a previous cell. \n",
      "\u001b[1;31mPlease review the code in the cell(s) to identify a possible cause of the failure. \n",
      "\u001b[1;31mClick <a href='https://aka.ms/vscodeJupyterKernelCrash'>here</a> for more info. \n",
      "\u001b[1;31mView Jupyter <a href='command:jupyter.viewOutput'>log</a> for further details."
     ]
    }
   ],
   "source": [
    "data = \"myprogram.exe\"\n",
    "\n",
    "print(data[5:9])\n",
    "print(data[:-4])\n",
    "print(data[len(data)//2 - 1])"
   ]
  },
  {
   "cell_type": "markdown",
   "metadata": {},
   "source": [
    "### Question 4\n",
    "\n",
    "Assume that the variable `data` refers to the string `\"Python rules!\"`. Use a string method to perform the following tasks:\n",
    "1. (a) Obtain a list of words in the string\n",
    "2. (b) Convert the string to uppercase\n",
    "3. (c) Locate the position of the string \"rules\".\n",
    "4. (d) Replace the exclamation point with a question mark."
   ]
  },
  {
   "cell_type": "code",
   "execution_count": 4,
   "metadata": {},
   "outputs": [
    {
     "name": "stdout",
     "output_type": "stream",
     "text": [
      "['python', 'rules']\n",
      "PYTHON RULES!\n",
      "7\n",
      "Python rules?\n"
     ]
    }
   ],
   "source": [
    "data = \"Python rules!\"\n",
    "\n",
    "# (a)\n",
    "\n",
    "words = data.lower().replace(\"!\", \"\").split(\" \")\n",
    "print(words)\n",
    "\n",
    "# (b)\n",
    "\n",
    "upper_case = data.upper()\n",
    "print(upper_case)\n",
    "\n",
    "# (c)\n",
    "\n",
    "position = data.find(\"rules\")\n",
    "print(position)\n",
    "\n",
    "# (d)\n",
    "\n",
    "question_mark = data.replace(\"!\", \"?\")\n",
    "\n",
    "print(question_mark)"
   ]
  },
  {
   "cell_type": "markdown",
   "metadata": {},
   "source": [
    "### Question 5\n",
    "\n",
    "Assume that the variable `data` refers to the string `\"Python rules!\"`. Write the values of the following expressions:\n",
    "\n",
    "1. (a) `data.endswith('i')`\n",
    "2. (b) `\" totally \".join(data.split())`"
   ]
  },
  {
   "cell_type": "code",
   "execution_count": 8,
   "metadata": {},
   "outputs": [
    {
     "name": "stdout",
     "output_type": "stream",
     "text": [
      "False\n",
      "['Python', 'rules!']\n",
      "Python totally rules!\n"
     ]
    }
   ],
   "source": [
    "data = \"Python rules!\"\n",
    "\n",
    "# (a)\n",
    "\n",
    "print(data.endswith('i')) # False\n",
    "\n",
    "# (b)\n",
    "\n",
    "print(data.split()) # default seperator is a white space \" \"\n",
    "\n",
    "print(\" totally \".join(data.split()))"
   ]
  },
  {
   "cell_type": "markdown",
   "metadata": {},
   "source": [
    "### Question 6\n",
    "\n",
    "Assume that a file named `word.txt` contains words separated by `newlines`. Write a code segment that opens a file for input and prints the number of four-letter words in the file."
   ]
  },
  {
   "cell_type": "code",
   "execution_count": 9,
   "metadata": {},
   "outputs": [
    {
     "name": "stdout",
     "output_type": "stream",
     "text": [
      "7\n"
     ]
    }
   ],
   "source": [
    "file = open(\"word.txt\", \"r\")\n",
    "\n",
    "word_count = 0\n",
    "\n",
    "for line in file:\n",
    "    line = line.strip()\n",
    "    if len(line) == 4:\n",
    "        word_count += 1\n",
    "        \n",
    "print(word_count)"
   ]
  },
  {
   "cell_type": "markdown",
   "metadata": {},
   "source": [
    "### Question 7\n",
    "\n",
    "Assume that a file named `integer.txt` contains integers separated by `newlines`. Write a code segment that opens the file and prints the average value of the integers."
   ]
  },
  {
   "cell_type": "code",
   "execution_count": 13,
   "metadata": {},
   "outputs": [
    {
     "name": "stdout",
     "output_type": "stream",
     "text": [
      "36.0\n"
     ]
    }
   ],
   "source": [
    "integers = open(\"integer.txt\", \"r\")\n",
    "\n",
    "sum = 0\n",
    "count = 0\n",
    "\n",
    "for integer in integers:\n",
    "    sum += int(integer.strip())\n",
    "    count += 1\n",
    "    \n",
    "print(sum/count)"
   ]
  }
 ],
 "metadata": {
  "kernelspec": {
   "display_name": "Python 3",
   "language": "python",
   "name": "python3"
  },
  "language_info": {
   "codemirror_mode": {
    "name": "ipython",
    "version": 3
   },
   "file_extension": ".py",
   "mimetype": "text/x-python",
   "name": "python",
   "nbconvert_exporter": "python",
   "pygments_lexer": "ipython3",
   "version": "3.11.9"
  }
 },
 "nbformat": 4,
 "nbformat_minor": 2
}
