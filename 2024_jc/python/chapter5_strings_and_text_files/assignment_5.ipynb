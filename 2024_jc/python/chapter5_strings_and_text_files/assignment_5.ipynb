{
 "cells": [
  {
   "cell_type": "markdown",
   "metadata": {},
   "source": [
    "### Question 1\n",
    "\n",
    "Assume that the variable `myString` refers to a string. Write a code segment that uses a loop to print the characters of the string in reverse order."
   ]
  },
  {
   "cell_type": "code",
   "execution_count": 8,
   "metadata": {},
   "outputs": [
    {
     "name": "stdout",
     "output_type": "stream",
     "text": [
      "!dlrow olleH\n",
      "!\n",
      "d\n",
      "l\n",
      "r\n",
      "o\n",
      "w\n",
      " \n",
      "o\n",
      "l\n",
      "l\n",
      "e\n",
      "H\n"
     ]
    }
   ],
   "source": [
    "myString = \"Hello world!\"\n",
    "\n",
    "print(myString[::-1])\n",
    "\n",
    "for i in range(len(myString) - 1, -1, -1):\n",
    "    print(myString[i])"
   ]
  },
  {
   "cell_type": "markdown",
   "metadata": {},
   "source": [
    "### Question 2\n",
    "\n",
    "Write a program that accepts as input a sentence in which all of the words are run together but the first character of each word is uppercase. Convert the sentence to a string in which the words are separated by spaces and only the first word starts with an uppercase letter. For example, the string `\"StopAndSmellTheRoses.\"` would be converted to `\"Stop and smell the roses.\"`"
   ]
  },
  {
   "cell_type": "code",
   "execution_count": 14,
   "metadata": {},
   "outputs": [
    {
     "name": "stdout",
     "output_type": "stream",
     "text": [
      "Stop And Smell The Roses.\n"
     ]
    }
   ],
   "source": [
    "s = \"StopAndSmellTheRoses.\"\n",
    "\n",
    "s_new = \"\"\n",
    "\n",
    "for char, idx in zip(s, range(len(s))):\n",
    "    if char.isupper() and idx != 0:\n",
    "        s_new += \" \"\n",
    "    s_new += char\n",
    "    \n",
    "print(s_new)"
   ]
  },
  {
   "cell_type": "code",
   "execution_count": 18,
   "metadata": {},
   "outputs": [
    {
     "name": "stdout",
     "output_type": "stream",
     "text": [
      "Stop And Smell The Roses.\n"
     ]
    }
   ],
   "source": [
    "s = \"StopAndSmellTheRoses.\"\n",
    "\n",
    "words = []\n",
    "word_start = 0\n",
    "\n",
    "for i in range(1, len(s)):\n",
    "    if s[i].isupper():\n",
    "        words.append(s[word_start:i])\n",
    "        word_start = i\n",
    "\n",
    "words.append(s[word_start:])\n",
    "\n",
    "print(\" \".join(words))"
   ]
  },
  {
   "cell_type": "markdown",
   "metadata": {},
   "source": [
    "### Question 3\n",
    "\n",
    "Write a script to prompt the user for the names of two text files. The contents of the first file should be input and written to the second file. You may use the text file in Tutorial 5 question 6 for testing purpose."
   ]
  },
  {
   "cell_type": "code",
   "execution_count": 6,
   "metadata": {},
   "outputs": [],
   "source": [
    "# file_1 = open(input(\"Enter the name of file 1: \"), \"r\")\n",
    "# file_2 = open(input(\"Enter the name of file 2: \"), \"a\")\n",
    "\n",
    "file_1 = open(\"integer.txt\", \"r\")\n",
    "file_2 = open(\"word.txt\", \"a\")\n",
    "\n",
    "file_2.write(\"\\n\")\n",
    "for line in file_1:\n",
    "    file_2.write(line)\n",
    "    \n",
    "file_1.close()\n",
    "file_2.close()"
   ]
  },
  {
   "cell_type": "markdown",
   "metadata": {},
   "source": [
    "### Question 4\n",
    "\n",
    "The Payroll Department keeps a list of employee information for each pay period in a text file. The format of each line of the file is the following:\n",
    "\n",
    "`<last name>` `<hourly wage>` `<hours worked>`\n",
    "\n",
    "Write a program that reads data from the file payroll.txt and prints to the terminal a report of the wages paid to the employees for the given period. The report should be in tabular format with the appropriate header. Each line should contain an employee’s name, the hours worked and the wages paid for that period."
   ]
  },
  {
   "cell_type": "code",
   "execution_count": 40,
   "metadata": {},
   "outputs": [
    {
     "name": "stdout",
     "output_type": "stream",
     "text": [
      "+-----------+--------------+------------+\n",
      "| Last name | Hours Worked | Wages Paid |\n",
      "+-----------+--------------+------------+\n",
      "| Tan       | 40           | 200.0      |\n",
      "| Sim       | 20           | 120.0      |\n",
      "| Lee       | 20           | 80.0       |\n",
      "| Ng        | 50           | 350.0      |\n",
      "| Ong       | 60           | 480.0      |\n",
      "| Wong      | 45           | 247.5      |\n",
      "| Goh       | 24           | 156.0      |\n",
      "| Chua      | 60           | 420.0      |\n",
      "| Chan      | 10           | 90.0       |\n",
      "| Koh       | 5            | 60.0       |\n",
      "| Lim       | 20           | 190.0      |\n",
      "+-----------+--------------+------------+\n"
     ]
    }
   ],
   "source": [
    "payroll = open(\"payroll.txt\", \"r\")\n",
    "\n",
    "\n",
    "print(\"+\" + \"-\" * 11 + \"+\" + \"-\" * 14 + \"+\" + \"-\" * 12 + \"+\")\n",
    "print(f\"| Last name | Hours Worked | Wages Paid |\")\n",
    "print(\"+\" + \"-\" * 11 + \"+\" + \"-\" * 14 + \"+\" + \"-\" * 12 + \"+\")\n",
    "for row in payroll:\n",
    "    row = row.split()\n",
    "    print(f\"| {row[0]:<9} | {row[2]:<12} | {int(row[2])*float(row[1]):<10} |\")\n",
    "print(\"+\" + \"-\" * 11 + \"+\" + \"-\" * 14 + \"+\" + \"-\" * 12 + \"+\")\n",
    "\n",
    "payroll.close()\n",
    "    "
   ]
  },
  {
   "cell_type": "markdown",
   "metadata": {},
   "source": [
    "### Question 5\n",
    "\n",
    "The file comp.txt stores a list of single word computing terms used in a text book.\n",
    "\n",
    "Each entry has the following format:  \n",
    "`<computing term>`  \n",
    "`<number>`\n",
    "\n",
    "One of the entries is:  \n",
    "`program`  \n",
    "`52`\n",
    "\n",
    "This means that after a complete scan of the textbook the word \"program\" was found 52 times.\n",
    "\n",
    "Using the file comp.txt, write a program code to find and output the term with the highest number of occurrences.\n",
    "\n",
    "(Assume that there is only one term exists with the highest number of occurrences)"
   ]
  },
  {
   "cell_type": "code",
   "execution_count": 2,
   "metadata": {},
   "outputs": [
    {
     "name": "stdout",
     "output_type": "stream",
     "text": [
      "Term with the highest number of occurrences: computing\n"
     ]
    }
   ],
   "source": [
    "comp = open(\"comp.txt\", \"r\")\n",
    "\n",
    "highest_occurence = 0\n",
    "counts = []\n",
    "words = []\n",
    "\n",
    "for line in comp:\n",
    "    if line.strip().isnumeric():\n",
    "        counts.append(int(line.strip()))\n",
    "    else:\n",
    "        words.append(line.strip())\n",
    "\n",
    "index = counts.index(max(counts))\n",
    "        \n",
    "print(f\"Term with the highest number of occurrences: {words[index]}\")\n",
    "\n",
    "comp.close()"
   ]
  }
 ],
 "metadata": {
  "kernelspec": {
   "display_name": "Python 3",
   "language": "python",
   "name": "python3"
  },
  "language_info": {
   "codemirror_mode": {
    "name": "ipython",
    "version": 3
   },
   "file_extension": ".py",
   "mimetype": "text/x-python",
   "name": "python",
   "nbconvert_exporter": "python",
   "pygments_lexer": "ipython3",
   "version": "3.11.9"
  }
 },
 "nbformat": 4,
 "nbformat_minor": 2
}
