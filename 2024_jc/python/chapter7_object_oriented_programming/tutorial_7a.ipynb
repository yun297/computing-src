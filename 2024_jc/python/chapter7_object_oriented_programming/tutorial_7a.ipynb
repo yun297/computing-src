{
 "cells": [
  {
   "cell_type": "markdown",
   "metadata": {},
   "source": [
    "### Question 1\n",
    "\n",
    "What is the difference between a class and an object?\n",
    "\n",
    "### Answer\n",
    "\n",
    "A class is a blueprint for creating objects (a particular data structure), providing initial values for state (member variables or attributes), and implementations of behavior (member functions or methods). The user-defined objects are created using the class keyword. An object is an instance of a class. When a class is defined, no memory is allocated but when it is instantiated (i.e. an object is created) memory is allocated.\n",
    "\n",
    "**OR**\n",
    "\n",
    "A class is code that specifies the data attributes and methods of a particular type of object, similar to a blueprint of a house or a cookie cutter. On the other hand, an object is an instance created from a class, similar to a specific house built according to the blueprint or a specific cookie. There can be many instances of one class."
   ]
  },
  {
   "cell_type": "markdown",
   "metadata": {},
   "source": [
    "### Question 2\n",
    "\n",
    "* **(i)** What is encapsulation?\n",
    "* **(ii)** How is data hiding achieved in a class?\n",
    "\n",
    "### Answer\n",
    "\n",
    "**(i)** Encapsulation is the bundling of data attributes and methods that operate on the data into a single unit, called a class. It is a way to restrict access to some of the object's components, which means that the internal representation of an object is hidden from the outside.\n",
    "\n",
    "**(ii)** Data hiding is achieved in a class by making the data attributes private, which means that they can only be accessed within the class. This is done by using access specifiers like private, protected, and public in the class definition. By making the data private, we can control how the data is accessed and modified, ensuring data integrity and security.\n",
    "\n",
    "By adding an underscore (_) before the attribute name, we can make it private. For example, `_name` is a private attribute in a class."
   ]
  },
  {
   "cell_type": "markdown",
   "metadata": {},
   "source": [
    "### Question 3\n",
    "\n",
    "The following statement calls an object’s method.\n",
    "\n",
    "1. What is the name of the method?\n",
    "2. What is the name of the variable that references the object?\n",
    "\n",
    "`wallet.get_dollar()`\n",
    "\n",
    "### Answer\n",
    "\n",
    "1. The name of the method is `get_dollar()`.\n",
    "2. The name of the variable that references the object is `wallet`."
   ]
  },
  {
   "cell_type": "markdown",
   "metadata": {},
   "source": [
    "### Question 4\n",
    "\n",
    "When the `__init__` method executes, what does the self parameter reference?\n",
    "\n",
    "### Answer\n",
    "\n",
    "The `self` parameter in the `__init__` method is a reference to the current instance of the class. It is used to access variables that belong to the class. When a new object is created, the `self` parameter is automatically passed to the `__init__` method, allowing the object to initialize its attributes."
   ]
  },
  {
   "cell_type": "markdown",
   "metadata": {},
   "source": [
    "### Question 5\n",
    "\n",
    "How do you call the `__str__` method?\n",
    "\n",
    "### Answer\n",
    "\n",
    "The `__str__` method is called using the `str()` function or by using the `print()` function. When you call `str()` or `print()` on an object, Python internally calls the `__str__` method of that object to get the string representation of the object."
   ]
  },
  {
   "cell_type": "markdown",
   "metadata": {},
   "source": [
    "### Question 6\n",
    "\n",
    "Suppose `my_car` is the name of a variable that references an object, and `go` is the name of a method. Write a statement that uses the `my_car` variable to call the `go` method. (You do not have to pass any arguments to the go method.)\n",
    "\n",
    "### Answer\n",
    "\n",
    "`my_car.go()`"
   ]
  },
  {
   "cell_type": "markdown",
   "metadata": {},
   "source": [
    "### Question 7\n",
    "\n",
    "Draw a class diagram for `Book`. The `Book` class has data attributes for `title`, `author’s name`, `publisher’s name` and their corresponding **accessor** and **mutator** methods for each attribute.\n",
    "\n",
    "### Answer\n",
    "\n",
    "Image: ![](book_class_diagram.jpg)"
   ]
  }
 ],
 "metadata": {
  "kernelspec": {
   "display_name": "Python 3",
   "language": "python",
   "name": "python3"
  },
  "language_info": {
   "name": "python",
   "version": "3.11.9"
  }
 },
 "nbformat": 4,
 "nbformat_minor": 2
}
