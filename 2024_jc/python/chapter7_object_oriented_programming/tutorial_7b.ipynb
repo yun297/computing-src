{
 "cells": [
  {
   "cell_type": "markdown",
   "metadata": {},
   "source": [
    "### Question 1\n",
    "\n",
    "What does a subclass inherit from its superclass?\n",
    "\n",
    "### Answer\n",
    "\n",
    "A subclass inherits all the attributes and methods of its superclass."
   ]
  },
  {
   "cell_type": "markdown",
   "metadata": {},
   "source": [
    "### Question 2\n",
    "\n",
    "What are the benefits of having `class B` extend or inherit from `class A`?\n",
    "\n",
    "### Answer\n",
    "\n",
    "Having `class B` extend or inherit from `class A` allows `class B` to reuse the attributes and methods of `class A`. This can help reduce code duplication and make the code more maintainable."
   ]
  },
  {
   "cell_type": "markdown",
   "metadata": {},
   "source": [
    "### Question 3\n",
    "\n",
    "Look at the following class definition. What is the name of the superclass? What is the name of the subclass?\n",
    "\n",
    "`class Tiger(Felis):`\n",
    "\n",
    "### Answer\n",
    "\n",
    "The name of the superclass is `Felis`, and the name of the subclass is `Tiger`."
   ]
  },
  {
   "cell_type": "markdown",
   "metadata": {},
   "source": [
    "### Question 4\n",
    "\n",
    "Describe what the `__init__` method should do in a class that extends another class.\n",
    "\n",
    "### Answer\n",
    "\n",
    "The `__init__` method in a class that extends another class should call the `__init__` method of the superclass to initialize the inherited attributes. It can also initialize additional attributes specific to the subclass."
   ]
  },
  {
   "cell_type": "markdown",
   "metadata": {},
   "source": [
    "### Question 5\n",
    "\n",
    "Look at the following class definition:\n",
    "\n",
    "```python\n",
    "class Beverage:\n",
    "    def __init__(self, bev_name):\n",
    "        self._bev_name = bev_name\n",
    "```\n",
    "\n",
    "Write the code for a class named `Cola` that is a subclass of the `Beverage` class. The `Cola` class’s `__init__` method should call the `Beverage` class’s `__init__` method, passing `'cola'` as an argument."
   ]
  },
  {
   "cell_type": "code",
   "execution_count": null,
   "metadata": {},
   "outputs": [],
   "source": [
    "class Beverage:\n",
    "    def __init__(self, bev_name):\n",
    "        self._bev_name = bev_name\n",
    "        \n",
    "class Cola(Beverage):\n",
    "    def __init__(self):\n",
    "        super().__init__('cola')\n"
   ]
  },
  {
   "cell_type": "markdown",
   "metadata": {},
   "source": [
    "### Question 6\n",
    "\n",
    "What is an overridden method?\n",
    "\n",
    "### Answer\n",
    "\n",
    "An overridden method is a method in a subclass that has the same name as a method in the superclass. When the method is called on an instance of the subclass, the subclass method is executed instead of the superclass method."
   ]
  },
  {
   "cell_type": "markdown",
   "metadata": {},
   "source": [
    "### Question 7\n",
    "\n",
    "Look at the following class definitions:\n",
    "\n",
    "\n",
    "```python\n",
    "class Plant:\n",
    "    def __init__(self, plant_type):\n",
    "        self._plant_type = plant_type\n",
    "    \n",
    "    def message(self):\n",
    "        print(\"I'm a plant\")\n",
    "\n",
    "class Tree(Plant):\n",
    "    def __init__(self):\n",
    "        super().__init__('tree')\n",
    "    \n",
    "    def message(self):\n",
    "        print(\"I'm a tree\")\n",
    "```\n",
    "\n",
    "Given these class definitions, what will the following statements display?\n",
    "\n",
    "```python\n",
    "p = Plant('sapling')\n",
    "t = Tree()\n",
    "p.message()\n",
    "t.message()\n",
    "```\n"
   ]
  },
  {
   "cell_type": "code",
   "execution_count": 1,
   "metadata": {},
   "outputs": [
    {
     "name": "stdout",
     "output_type": "stream",
     "text": [
      "I'm a plant\n",
      "I'm a tree\n"
     ]
    }
   ],
   "source": [
    "class Plant:\n",
    "    def __init__(self, plant_type):\n",
    "        self._plant_type = plant_type\n",
    "    \n",
    "    def message(self):\n",
    "        print(\"I'm a plant\")\n",
    "\n",
    "class Tree(Plant):\n",
    "    def __init__(self):\n",
    "        super().__init__('tree')\n",
    "    \n",
    "    def message(self):\n",
    "        print(\"I'm a tree\")\n",
    "\n",
    "p = Plant('sapling')\n",
    "t = Tree()\n",
    "p.message()\n",
    "t.message()"
   ]
  },
  {
   "cell_type": "markdown",
   "metadata": {},
   "source": [
    "### Question 8\n",
    "\n",
    "Class B extends class A. Class A defines an `__str__` method that returns the string representation of its instance variables. Class B defines a single variable named `_age`.\n",
    "\n",
    "Write the code to define the `__str__` method for class B. This method should return the combined string information from both classes. Label the data for `_age` with the string \"Age: \".\n"
   ]
  },
  {
   "cell_type": "code",
   "execution_count": null,
   "metadata": {},
   "outputs": [],
   "source": [
    "class A:\n",
    "    def __init__(self, name):\n",
    "        self._name = name\n",
    "    \n",
    "    def __str__(self):\n",
    "        return f\"Name: {self._name}\"\n",
    "\n",
    "class B(A):\n",
    "    def __init__(self, name, age):\n",
    "        super().__init__(name)\n",
    "        self._age = age\n",
    "    \n",
    "    def __str__(self):\n",
    "        return super().__str__() + f\", Age: {self._age}\"\n",
    "\n",
    "# Example usage:\n",
    "obj_b = B(\"John\", 30)\n",
    "print(obj_b)\n"
   ]
  },
  {
   "cell_type": "markdown",
   "metadata": {},
   "source": [
    "### Question 9\n",
    "\n",
    "The following class diagram shows three classes and some of their private attributes and public methods.\n",
    "\n",
    "Image ![](\"q9_class_diagram.png\")\n",
    "\n",
    "(a) Using this diagram to explain the following terms:\n",
    "   - (i) **encapsulation**: Encapsulation refers to the bundling of data and methods that operate on that data into a single unit or class. In the diagram, encapsulation is illustrated by the classes containing both attributes and methods that manipulate those attributes, keeping the implementation details hidden from the outside.\n",
    "   - (ii) **inheritance**: Inheritance is the mechanism by which a new class can inherit properties and behavior from an existing class. In the diagram, inheritance is shown by the arrows indicating that certain classes inherit attributes and methods from other classes.\n",
    "   - (iii) **polymorphism**: Polymorphism allows objects of different classes to be treated as objects of a common superclass. This allows methods to be called on objects without needing to know their specific class. In the diagram, polymorphism is demonstrated by different classes having methods with the same name but potentially different implementations.\n",
    "\n",
    "(b) **Data hiding** is the concept of restricting access to certain parts of an object, typically its attributes or methods, to prevent unauthorized access or modification. It ensures that the internal state of an object is only accessible through well-defined interfaces, enhancing security and maintainability.\n",
    "\n",
    "(c) For each of the following classes give one other possible private attribute:\n",
    "   - (i) **SalesStaff**: `total_sales`, to track the total sales made by the sales staff.\n",
    "   - (ii) **TemporaryStaff**: `contract_end_date`, to store the end date of the temporary staff's contract.\n",
    "\n",
    "(d) Two ways the diagram could be altered to accommodate the additional information about commission on sales:\n",
    "   - Add a new class, such as `CommissionedStaff`, which inherits from `Staff`, to represent staff members who earn commission on sales. This class can have additional attributes and methods related to commission calculation.\n",
    "   - Modify the `SalesStaff` class to include attributes for tracking sales and commission rates, along with methods for calculating commission based on sales.\n",
    "\n",
    "(e) Two advantages of using an object-oriented programming language:\n",
    "   - **Modularity**: Object-oriented programming allows for the modular development of software, making it easier to manage and scale complex systems by breaking them down into smaller, reusable components (objects).\n",
    "   - **Abstraction**: OOP provides the ability to abstract away complex implementations and focus on high-level concepts. This makes code easier to understand, maintain, and extend, as developers can work with objects and their interfaces rather than dealing with low-level details.\n"
   ]
  }
 ],
 "metadata": {
  "kernelspec": {
   "display_name": "Python 3",
   "language": "python",
   "name": "python3"
  },
  "language_info": {
   "codemirror_mode": {
    "name": "ipython",
    "version": 3
   },
   "file_extension": ".py",
   "mimetype": "text/x-python",
   "name": "python",
   "nbconvert_exporter": "python",
   "pygments_lexer": "ipython3",
   "version": "3.11.9"
  }
 },
 "nbformat": 4,
 "nbformat_minor": 2
}
