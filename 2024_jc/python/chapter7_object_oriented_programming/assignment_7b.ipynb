{
 "cells": [
  {
   "cell_type": "markdown",
   "metadata": {},
   "source": [
    "### Question 1\n",
    "\n",
    "`Person` and `Customer` Classes\n",
    "\n",
    "Write a class named `Person` with data attributes for a person’s `name`, `address`, and `telephone_number`. Next, write a class name `Customer` that is a subclass of the `Person` class. The `Customer` class should have a data attribute for a **customer number** and a **Boolean data attribute indicating whether the customer wishes to be on a mailing list**. Demonstrate an **instance** of the `Customer` class in a simple program.\n"
   ]
  },
  {
   "cell_type": "code",
   "execution_count": 1,
   "metadata": {},
   "outputs": [
    {
     "name": "stdout",
     "output_type": "stream",
     "text": [
      "John Doe\n",
      "123 Main St\n",
      "555-1234\n",
      "12345\n",
      "True\n"
     ]
    }
   ],
   "source": [
    "class Person:\n",
    "    def __init__(self, name, address, number) -> None:\n",
    "        self._name = name\n",
    "        self._address = address\n",
    "        self._number = number\n",
    "    \n",
    "class Customer(Person):\n",
    "    def __init__(self, name, address, number, customer_number, on_mailing_list):\n",
    "        super().__init__(name, address, number)\n",
    "        \n",
    "        self._customer_number = customer_number\n",
    "        self._on_mailing_list = on_mailing_list\n",
    "        \n",
    "customer1 = Customer(\"John Doe\", \"123 Main St\", \"555-1234\", \"12345\", True)\n",
    "print(customer1._name)\n",
    "print(customer1._address)\n",
    "print(customer1._number)\n",
    "print(customer1._customer_number)\n",
    "print(customer1._on_mailing_list)\n",
    "        "
   ]
  },
  {
   "cell_type": "markdown",
   "metadata": {},
   "source": [
    "### Question 2\n",
    "\n",
    "In a school, the Personnel Department is responsible for storing details about all staff who work for the school. There are two categories of staff:\n",
    "\n",
    "- **Teacher**\n",
    "- **Support staff**\n",
    "\n",
    "All staff have a `staff_id` and a `name`. In addition, the `salary` for each member of staff is stored.\n",
    "\n",
    "A **teacher** has a `classroom` in which they do all their teaching. A teacher is also responsible for a `form_group`.\n",
    "\n",
    "**Support staff** is either `part-time` or `full-time`. They are also allocated to one `department`.\n",
    "\n",
    "Software, using object-oriented programming, is to be written to process data about the staff.\n",
    "\n",
    "* (a) Implement three classes namely `Staff`, `Teacher` and `SupportStaff`. Use inheritance to create appropriate relationships between the classes. Include all the properties described above, a constructor method to allow the object properties to be initialized, and a show method that displays all the property values of the object.\n",
    "\n",
    "* (b) Test the code by creating objects from each class and then displaying their property values.\n",
    "\n",
    "* (c) `lunches` are provided for all staff. The cost is **1/80** of their `salary`. Write a method that will display the cost for each member of staff. Test your solution.\n",
    "\n",
    "* (d) A change is made to the cost of the `lunches` so that the **teaching staff** are charged only **1/100** of their salary. Use **polymorphism** to implement a method in the `Teacher` class for displaying the cost of lunches. Test your change.\n"
   ]
  },
  {
   "cell_type": "code",
   "execution_count": 3,
   "metadata": {},
   "outputs": [
    {
     "name": "stdout",
     "output_type": "stream",
     "text": [
      "Staff lunch cost: 750.0\n",
      "Teacher lunch cost: 600.0\n",
      "Support staff lunch cost: 750.0\n"
     ]
    }
   ],
   "source": [
    "class Staff:\n",
    "    def __init__(self, staff_id, name, salary,) -> None:\n",
    "        self._staff_id = staff_id\n",
    "        self._name = name\n",
    "        self._salary = salary\n",
    "        self._lunch_cost = self._salary * (1/80)\n",
    "        \n",
    "    def get_staff_id(self):\n",
    "        return self._staff_id\n",
    "    \n",
    "    def get_name(self):\n",
    "        return self._name\n",
    "    \n",
    "    def get_salary(self):\n",
    "        return self._salary\n",
    "    \n",
    "    def get_lunch_cost(self):\n",
    "        return self._lunch_cost\n",
    "    \n",
    "    \n",
    "class Teacher(Staff):\n",
    "    def __init__(self, staff_id, name, salary, classroom, form_group) -> None:\n",
    "        super().__init__(staff_id, name, salary)\n",
    "        \n",
    "        self._classroom = classroom\n",
    "        self._form_group = form_group\n",
    "        self._lunch_cost = self._salary * (1/100)\n",
    "    \n",
    "    def get_classroom(self):\n",
    "        return self._classroom\n",
    "    \n",
    "    def get_form_group(self):\n",
    "        return self._form_group\n",
    "    \n",
    "    \n",
    "class SupportStaff(Staff):\n",
    "    def __init__(self, staff_id, name, salary, full_time:bool, department) -> None:\n",
    "        super().__init__(staff_id, name, salary)\n",
    "        \n",
    "        if full_time == True:\n",
    "            self._status = \"full_time\"\n",
    "        else:\n",
    "            self._status = \"part_time\"\n",
    "            \n",
    "        self._department = department\n",
    "    \n",
    "    def get_status(self):\n",
    "        return self._status\n",
    "    \n",
    "    def get_department(self):\n",
    "        return self._department\n",
    "    \n",
    "# Creating instances for each class\n",
    "\n",
    "# Staff instance\n",
    "staff_member = Staff(\"S001\", \"John Doe\", 60000)\n",
    "\n",
    "# Teacher instance\n",
    "teacher = Teacher(\"T001\", \"Alice Smith\", 60000, \"Room 101\", \"Grade 7\")\n",
    "\n",
    "# SupportStaff instance\n",
    "support_staff = SupportStaff(\"SS001\", \"Bob Johnson\", 60000, True, \"Maintenance\")\n",
    "\n",
    "print(\"Staff lunch cost:\", staff_member.get_lunch_cost())\n",
    "\n",
    "print(\"Teacher lunch cost:\", teacher.get_lunch_cost())\n",
    "\n",
    "print(\"Support staff lunch cost:\", support_staff.get_lunch_cost())"
   ]
  }
 ],
 "metadata": {
  "kernelspec": {
   "display_name": "Python 3",
   "language": "python",
   "name": "python3"
  },
  "language_info": {
   "codemirror_mode": {
    "name": "ipython",
    "version": 3
   },
   "file_extension": ".py",
   "mimetype": "text/x-python",
   "name": "python",
   "nbconvert_exporter": "python",
   "pygments_lexer": "ipython3",
   "version": "3.11.9"
  }
 },
 "nbformat": 4,
 "nbformat_minor": 2
}
