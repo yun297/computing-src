{
 "cells": [
  {
   "cell_type": "markdown",
   "metadata": {},
   "source": [
    "### Question 1\n",
    "\n",
    "Write a class named `Pet`, which should have the following data attributes:\n",
    "\n",
    "* `_name` (for the name of a pet)\n",
    "* `_animal_type` (for the type of animal that a pet is. Example values are `‘Dog’`,`‘Cat’` and `‘Bird’`)\n",
    "* `_age` (for the pet’s age)\n",
    "\n",
    "The `Pet` class should have an `__init__` method that creates these attributes. It should also have the following methods:\n",
    "\n",
    "* `set_name`: assigns a value to the `_name` field\n",
    "* `set_animal_type`: assigns a value to the `_animal_type` field\n",
    "* `set_age`: assigns a value to the `_age` field.\n",
    "* `get_name`: returns the value of the `_name` field\n",
    "* `get_type`: returns the value of the `_animal_type` field\n",
    "* `get_age`: returns the value of the `_age` field\n",
    "\n",
    "Once you have written the class, write a program that creates an object of the class and prompts the user to enter the `name`, `type` and `age` of his or her pet. This data should be stored as the object’s attributes. Use the object’s accessor methods to retrieve the pet’s `name`, `type` and `age` and display the data on the screen."
   ]
  },
  {
   "cell_type": "code",
   "execution_count": 1,
   "metadata": {},
   "outputs": [
    {
     "name": "stdout",
     "output_type": "stream",
     "text": [
      "The Dog's name is Jojo. She is 2 years old.\n"
     ]
    }
   ],
   "source": [
    "class Pet:\n",
    "    def __init__(self, name:str, animal_type:str, age:int) -> None:\n",
    "        self._name = name\n",
    "        self._animal_type = animal_type\n",
    "        self._age = age\n",
    "        \n",
    "    def set_name(self, name):\n",
    "        self._name = name\n",
    "        \n",
    "    def set_animal_type(self, animal_type):\n",
    "        self._animal_type = animal_type\n",
    "        \n",
    "    def set_age(self, age):\n",
    "        self._age = age\n",
    "        \n",
    "    def get_name(self):\n",
    "        return self._name\n",
    "    \n",
    "    def get_type(self):\n",
    "        return self._animal_type\n",
    "    \n",
    "    def get_age(self):\n",
    "        return self._age\n",
    "    \n",
    "dog = Pet(\"Jojo\", \"Dog\", 2)\n",
    "print(f\"The {dog.get_type()}'s name is {dog.get_name()}. She is {dog.get_age()} years old.\")"
   ]
  },
  {
   "cell_type": "markdown",
   "metadata": {},
   "source": [
    "### Question 2\n",
    "\n",
    "Write a class named `Car` that contains the following data attributes:\n",
    "\n",
    "* `_year_model`: Stores the car's year model.\n",
    "* `_make`: Stores the make of the car.\n",
    "* `_speed`: Stores the current speed of the car.\n",
    "\n",
    "The `Car` class should include an `__init__` method that accepts the car's year model and make as arguments. It assigns these values to the object's `_year_model` and `_make` attributes, respectively. Additionally, it sets the `_speed` attribute to 0.\n",
    "\n",
    "The class should also implement the following methods:\n",
    "\n",
    "* `accelerate`: Increases the speed by 5 each time it is called.\n",
    "* `brake`: Decreases the speed by 5 each time it is called.\n",
    "* `get_speed`: Returns the current speed of the car.\n",
    "\n",
    "Next, design a program that creates a `Car` object and calls the `accelerate` method five times. After each call to `accelerate`, retrieve and display the current speed of the car. Then, call the `brake` method five times. After each call to `brake`, retrieve and display the current speed of the car.\n"
   ]
  },
  {
   "cell_type": "code",
   "execution_count": 2,
   "metadata": {},
   "outputs": [
    {
     "name": "stdout",
     "output_type": "stream",
     "text": [
      "Accelerating:\n",
      "Current speed: 5\n",
      "Current speed: 10\n",
      "Current speed: 15\n",
      "Current speed: 20\n",
      "Current speed: 25\n",
      "\n",
      "Braking:\n",
      "Current speed: 20\n",
      "Current speed: 15\n",
      "Current speed: 10\n",
      "Current speed: 5\n",
      "Current speed: 0\n"
     ]
    }
   ],
   "source": [
    "class Car:\n",
    "    def __init__(self, year_model:str, make:str, speed:int = 0) -> None:\n",
    "        self._year_model = year_model\n",
    "        self._make = make\n",
    "        self._speed = speed\n",
    "    \n",
    "    def accelerate(self):\n",
    "        self._speed += 5\n",
    "        \n",
    "    def brake(self):\n",
    "        self._speed -= 5\n",
    "    \n",
    "    def get_speed(self):\n",
    "        return self._speed\n",
    "\n",
    "my_car = Car(2022, \"Toyota\")\n",
    "\n",
    "# Accelerate the car five times\n",
    "print(\"Accelerating:\")\n",
    "for _ in range(5):\n",
    "    my_car.accelerate()\n",
    "    print(\"Current speed:\", my_car.get_speed())\n",
    "\n",
    "# Brake the car five times\n",
    "print(\"\\nBraking:\")\n",
    "for _ in range(5):\n",
    "    my_car.brake()\n",
    "    print(\"Current speed:\", my_car.get_speed())\n",
    "        "
   ]
  }
 ],
 "metadata": {
  "kernelspec": {
   "display_name": "Python 3",
   "language": "python",
   "name": "python3"
  },
  "language_info": {
   "codemirror_mode": {
    "name": "ipython",
    "version": 3
   },
   "file_extension": ".py",
   "mimetype": "text/x-python",
   "name": "python",
   "nbconvert_exporter": "python",
   "pygments_lexer": "ipython3",
   "version": "3.11.9"
  }
 },
 "nbformat": 4,
 "nbformat_minor": 2
}
