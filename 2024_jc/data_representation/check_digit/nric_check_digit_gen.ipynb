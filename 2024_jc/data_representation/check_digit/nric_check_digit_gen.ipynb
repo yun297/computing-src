{
 "cells": [
  {
   "cell_type": "markdown",
   "metadata": {},
   "source": [
    "Write a function which takes in the 7 digits in an NRIC starting with `T` (or FIN starting with `G`) and returns the correct corresponding `check digit`.\n",
    "\n",
    "The last letter is obtained from the 7 digits using the modulus eleven method. The steps to obtain the last letter are as follows:\n",
    "\n",
    "1. Multiply each digit in the NRIC/FIN number by its weight.\n",
    "2. Add together the above products.\n",
    "3. Add `4` to the `checksum` obtained.\n",
    "4. Divide the resulting `checksum` by `11` to obtain the remainder.\n",
    "5. Subtract `(remainder + 1)` from `11` to obtain the check digit.\n",
    "6. Check the check digit against the table to obtain the last letter.\n",
    "\n",
    "### Weight for each digit:\n",
    "\n",
    "| Digit Position | 1 | 2 | 3 | 4 | 5 | 6 | 7 |\n",
    "|----------------|---|---|---|---|---|---|---|\n",
    "| Weight         | 2 | 7 | 6 | 5 | 4 | 3 | 2 |\n",
    "\n",
    "### Table for Check Digit Corresponding Letters\n",
    "\n",
    "**If the first digit is S or T:**\n",
    "\n",
    "| Check Digit | 0 | 1 | 2 | 3 | 4 | 5 | 6 | 7 | 8 | 9 | 10 |\n",
    "|-------------|---|---|---|---|---|---|---|---|---|---|----|\n",
    "| Last Letter | A | B | C | D | E | F | G | H | I | Z | J  |\n"
   ]
  },
  {
   "cell_type": "code",
   "execution_count": null,
   "metadata": {},
   "outputs": [],
   "source": [
    "def gen(nric_digits):\n",
    "    weights = \"2765432\"\n",
    "    s_t_map = \"ABCDEFGHIZJ\"\n",
    "    \n",
    "    checksum = 0\n",
    "    for i in range(len(nric_digits)):\n",
    "        checksum += int(nric_digits[i]) * int(weights[i])\n",
    "     \n",
    "    checksum += 4\n",
    "    print(checksum)\n",
    "    \n",
    "    remainder = checksum % 11\n",
    "    print(remainder)\n",
    "    \n",
    "    check_digit = 11 - (remainder + 1)\n",
    "    print(check_digit)\n",
    "    \n",
    "    return s_t_map[check_digit]\n",
    "\n",
    "print(gen(\"0771573\"))"
   ]
  }
 ],
 "metadata": {
  "language_info": {
   "name": "python"
  }
 },
 "nbformat": 4,
 "nbformat_minor": 2
}
