{
 "cells": [
  {
   "cell_type": "markdown",
   "metadata": {},
   "source": [
    "### Decimal numbers to binary numbers"
   ]
  },
  {
   "cell_type": "code",
   "execution_count": 1,
   "metadata": {},
   "outputs": [
    {
     "data": {
      "text/plain": [
       "'1010'"
      ]
     },
     "execution_count": 1,
     "metadata": {},
     "output_type": "execute_result"
    }
   ],
   "source": [
    "def dec_to_bin(input):\n",
    "\tif input == 0:\n",
    "\t\treturn \"\"\n",
    "\telse:\n",
    "\t\treturn dec_to_bin(input // 2) + str(input % 2)\n",
    "\n",
    "dec_to_bin(10) # 1010"
   ]
  },
  {
   "cell_type": "markdown",
   "metadata": {},
   "source": [
    "### Decimal numbers to hexadecimal numbers"
   ]
  },
  {
   "cell_type": "code",
   "execution_count": 2,
   "metadata": {},
   "outputs": [
    {
     "data": {
      "text/plain": [
       "'4F'"
      ]
     },
     "execution_count": 2,
     "metadata": {},
     "output_type": "execute_result"
    }
   ],
   "source": [
    "def dec_to_hex(input, hex_table = [\"0\", \"1\", \"2\", \"3\", \"4\", \"5\", \"6\", \"7\", \"8\", \"9\", \"A\", \"B\", \"C\", \"D\", \"E\", \"F\"]):\n",
    "    if input == 0:\n",
    "        return \"\"\n",
    "    else:\n",
    "        return dec_to_hex(input // 16) + hex_table[(input % 16)]\n",
    "\n",
    "dec_to_hex(79)"
   ]
  },
  {
   "cell_type": "markdown",
   "metadata": {},
   "source": [
    "### Binary numbers to decimal numbers"
   ]
  },
  {
   "cell_type": "code",
   "execution_count": 8,
   "metadata": {},
   "outputs": [
    {
     "name": "stdout",
     "output_type": "stream",
     "text": [
      "10\n"
     ]
    }
   ],
   "source": [
    "def bin_to_dec(input:str, position = 0):\n",
    "    if len(input) == 0:\n",
    "        return 0\n",
    "    else:\n",
    "        return bin_to_dec(input[:-1], position + 1) + int(input[-1]) * 2 ** position\n",
    "\n",
    "print(bin_to_dec(\"1010\"))"
   ]
  },
  {
   "cell_type": "markdown",
   "metadata": {},
   "source": [
    "### Hexadecimal numbers to decimal numbers"
   ]
  },
  {
   "cell_type": "code",
   "execution_count": 13,
   "metadata": {},
   "outputs": [
    {
     "data": {
      "text/plain": [
       "109"
      ]
     },
     "execution_count": 13,
     "metadata": {},
     "output_type": "execute_result"
    }
   ],
   "source": [
    "def hex_to_dec(input, position = 0, hex_map = [\"0\", \"1\", \"2\", \"3\", \"4\", \"5\", \"6\", \"7\", \"8\", \"9\", \"A\", \"B\", \"C\", \"D\", \"E\", \"F\"]):\n",
    "    if len(input) == 0:\n",
    "        return 0\n",
    "    else:\n",
    "        return hex_to_dec(input[:-1], position + 1) + int(hex_map.index(input[-1])) * 16 ** position\n",
    "\n",
    "hex_to_dec(\"6D\")"
   ]
  },
  {
   "cell_type": "markdown",
   "metadata": {},
   "source": [
    "### Binary numbers to hexadecimal numbers"
   ]
  },
  {
   "cell_type": "code",
   "execution_count": 18,
   "metadata": {},
   "outputs": [
    {
     "data": {
      "text/plain": [
       "'1C'"
      ]
     },
     "execution_count": 18,
     "metadata": {},
     "output_type": "execute_result"
    }
   ],
   "source": [
    "def bin_to_hex(input):\n",
    "    if len(input) == 0:\n",
    "        return \"\"\n",
    "    else:\n",
    "        return bin_to_hex(input[:-4]) + dec_to_hex(bin_to_dec(input[-4:]))\n",
    "\n",
    "bin_to_hex(\"11100\")\n",
    "\n",
    "\n",
    "        "
   ]
  },
  {
   "cell_type": "markdown",
   "metadata": {},
   "source": [
    "### Hexadecimal numbers to binary numbers"
   ]
  },
  {
   "cell_type": "code",
   "execution_count": 21,
   "metadata": {},
   "outputs": [
    {
     "data": {
      "text/plain": [
       "'00011100'"
      ]
     },
     "execution_count": 21,
     "metadata": {},
     "output_type": "execute_result"
    }
   ],
   "source": [
    "def hex_to_bin(input):\n",
    "    if len(input) == 0:\n",
    "        return \"\"\n",
    "    else:\n",
    "        return hex_to_bin(input[:-1]) + (4 - len(dec_to_bin(hex_to_dec(input[-1])))) * \"0\" + dec_to_bin(hex_to_dec(input[-1]))\n",
    "\n",
    "hex_to_bin(\"1C\")"
   ]
  }
 ],
 "metadata": {
  "kernelspec": {
   "display_name": "Python 3",
   "language": "python",
   "name": "python3"
  },
  "language_info": {
   "codemirror_mode": {
    "name": "ipython",
    "version": 3
   },
   "file_extension": ".py",
   "mimetype": "text/x-python",
   "name": "python",
   "nbconvert_exporter": "python",
   "pygments_lexer": "ipython3",
   "version": "3.11.9"
  }
 },
 "nbformat": 4,
 "nbformat_minor": 2
}
