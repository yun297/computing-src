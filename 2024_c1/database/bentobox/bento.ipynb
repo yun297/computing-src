{
 "cells": [
  {
   "cell_type": "markdown",
   "metadata": {},
   "source": [
    "### Task 4.1\n",
    "\n",
    "```sql\n",
    "CREATE TABLE `Kiosk` (\n",
    "    `KioskID` INTEGER UNIQUE PRIMARY KEY AUTOINCREMENT,\n",
    "    `Location` TEXT,\n",
    "    `Rating` REAL\n",
    ");\n",
    "\n",
    "CREATE TABLE `BentoBox` (\n",
    "    `BentoName` TEXT UNIQUE PRIMARY KEY,\n",
    "    `ProductionCost` REAL,\n",
    "    `ContainEgg` INTEGER,\n",
    "    `ContainNut` INTEGER,\n",
    "    `ContainSeafood` INTEGER\n",
    ");\n",
    "\n",
    "CREATE TABLE `KioskBento` (\n",
    "    `KioskID` INTEGER,\n",
    "    `BentoName` TEXT,\n",
    "    `SellPrice` REAL,\n",
    "    FOREIGN KEY (`KioskID`) REFERENCES Kiosk(`KioskID`),\n",
    "    FOREIGN KEY (`BentoName`) REFERENCES BentoBox(`BentoName`)\n",
    ");"
   ]
  },
  {
   "cell_type": "code",
   "execution_count": 1,
   "metadata": {},
   "outputs": [],
   "source": [
    "import sqlite3\n",
    "\n",
    "conn = sqlite3.connect(\"bento_company.db\")"
   ]
  },
  {
   "cell_type": "code",
   "execution_count": 2,
   "metadata": {},
   "outputs": [],
   "source": [
    "# table creation using sqlite3 (J2 syllabus)\n",
    "\n",
    "conn.execute(\n",
    "    '''\n",
    "    CREATE TABLE `Kiosk` (\n",
    "        `KioskID` INTEGER UNIQUE PRIMARY KEY AUTOINCREMENT,\n",
    "        `Location` TEXT,\n",
    "        `Rating` REAL\n",
    "    );\n",
    "    '''\n",
    ")\n",
    "\n",
    "conn.execute(\n",
    "    '''\n",
    "    CREATE TABLE `BentoBox` (\n",
    "        `BentoName` TEXT UNIQUE PRIMARY KEY,\n",
    "        `ProductionCost` REAL,\n",
    "        `ContainEgg` INTEGER,\n",
    "        `ContainNut` INTEGER,\n",
    "        `ContainSeafood` INTEGER\n",
    "    );\n",
    "    '''\n",
    ")\n",
    "\n",
    "conn.execute(\n",
    "    '''\n",
    "    CREATE TABLE `KioskBento` (\n",
    "        `KioskID` INTEGER,\n",
    "        `BentoName` TEXT,\n",
    "        `SellPrice` REAL,\n",
    "        FOREIGN KEY (`KioskID`) REFERENCES Kiosk(`KioskID`),\n",
    "        FOREIGN KEY (`BentoName`) REFERENCES BentoBox(`BentoName`)\n",
    "    ); \n",
    "    '''\n",
    ")\n",
    "\n",
    "conn.commit() # write the execute/commands\n",
    "conn.close()"
   ]
  },
  {
   "cell_type": "markdown",
   "metadata": {},
   "source": [
    "### Task 4.2"
   ]
  },
  {
   "cell_type": "code",
   "execution_count": 3,
   "metadata": {},
   "outputs": [],
   "source": [
    "conn = sqlite3.connect(\"bento_company.db\")\n",
    "\n",
    "f_kiosk = open(\"KIOSK.txt\", \"r\")\n",
    "\n",
    "kiosk_list = []\n",
    "for line in f_kiosk:\n",
    "    id, location, rating = line.strip().split(\",\")\n",
    "    kiosk_list.append(id)\n",
    "    conn.execute(f\"INSERT INTO Kiosk (`KioskID`, `Location`, `Rating`) VALUES ('{int(id)}', '{location}', '{float(rating)}')\") # running sql command using sqlite3\n",
    "\n",
    "f_kiosk.close()"
   ]
  },
  {
   "cell_type": "code",
   "execution_count": 4,
   "metadata": {},
   "outputs": [],
   "source": [
    "f_bentobox = open(\"BENTOBOX.txt\", \"r\")\n",
    "\n",
    "bento_list = []\n",
    "for line in f_bentobox:\n",
    "    name, cost, egg, nut, seafood = line.strip().split(\",\")\n",
    "    bento_list.append((name, float(cost)))\n",
    "    conn.execute(f\"INSERT INTO BentoBox (`BentoName`, `ProductionCost`, `ContainEgg`, `ContainNut`, `ContainSeafood`) VALUES ('{name}', '{float(cost)}', '{int(egg)}', '{int(nut)}', '{int(seafood)}')\")\n",
    "\n",
    "f_bentobox.close()"
   ]
  },
  {
   "cell_type": "code",
   "execution_count": 5,
   "metadata": {},
   "outputs": [],
   "source": [
    "markup = [2.6, 2.9, 2.4, 3.1]\n",
    "for i in range(4):\n",
    "    id = kiosk_list[i]\n",
    "    for bento in bento_list:\n",
    "        price = bento[1] + markup[i] # reads cost from bento_list\n",
    "        conn.execute(f\"INSERT INTO KioskBento (`KioskID`, `BentoName`, `SellPrice`) VALUES ('{id}', '{bento[0]}', '{float(price)}')\")"
   ]
  },
  {
   "cell_type": "code",
   "execution_count": 6,
   "metadata": {},
   "outputs": [],
   "source": [
    "conn.commit()\n",
    "conn.close()"
   ]
  },
  {
   "cell_type": "markdown",
   "metadata": {},
   "source": [
    "### Task 4.3\n",
    "\n",
    "```sql\n",
    "SELECT `KioskBento`.`BentoName`, `KioskBento`.`SellPrice`\n",
    "FROM `KioskBento`\n",
    "INNER JOIN `Kiosk`\n",
    "ON `KioskBento`.`KioskID` = `Kiosk`.`KioskID`\n",
    "INNER JOIN `BentoBox`\n",
    "ON `KioskBento`.`BentoName` = `BentoBox`.`BentoName`\n",
    "WHERE `Kiosk`.`Location` = 'Bedok'\n",
    "AND `BentoBox`.`ContainNut` = 1\n",
    "AND `BentoBox`.`ContainSeafood` = 0"
   ]
  }
 ],
 "metadata": {
  "kernelspec": {
   "display_name": "Python 3",
   "language": "python",
   "name": "python3"
  },
  "language_info": {
   "codemirror_mode": {
    "name": "ipython",
    "version": 3
   },
   "file_extension": ".py",
   "mimetype": "text/x-python",
   "name": "python",
   "nbconvert_exporter": "python",
   "pygments_lexer": "ipython3",
   "version": "3.11.9"
  }
 },
 "nbformat": 4,
 "nbformat_minor": 2
}
