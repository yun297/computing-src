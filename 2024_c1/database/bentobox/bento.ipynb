{
 "cells": [
  {
   "cell_type": "markdown",
   "metadata": {},
   "source": [
    "### Task 4.1\n",
    "\n",
    "```sql\n",
    "CREATE TABLE `Kiosk` (\n",
    "    `KioskID` INTEGER UNIQUE PRIMARY KEY AUTOINCREMENT,\n",
    "    `Location` TEXT,\n",
    "    `Rating` REAL\n",
    ");\n",
    "\n",
    "CREATE TABLE `BentoBox` (\n",
    "    `BentoName` TEXT UNIQUE PRIMARY KEY,\n",
    "    `ProductionCost` REAL,\n",
    "    `ContainEgg` INTEGER,\n",
    "    `ContainNut` INTEGER,\n",
    "    `ContainSeafood` INTEGER\n",
    ");\n",
    "\n",
    "CREATE TABLE `KioskBento` (\n",
    "    `KioskID` INTEGER,\n",
    "    `BentoName` TEXT,\n",
    "    `SellPrice` REAL,\n",
    "    FOREIGN KEY (`KioskID`) REFERENCES Kiosk(`KioskID`),\n",
    "    FOREIGN KEY (`BentoName`) REFERENCES BentoBox(`BentoName`)\n",
    ");"
   ]
  },
  {
   "cell_type": "code",
   "execution_count": 1,
   "metadata": {},
   "outputs": [],
   "source": [
    "import sqlite3"
   ]
  },
  {
   "cell_type": "code",
   "execution_count": 2,
   "metadata": {},
   "outputs": [
    {
     "ename": "OperationalError",
     "evalue": "table `Kiosk` already exists",
     "output_type": "error",
     "traceback": [
      "\u001b[1;31m---------------------------------------------------------------------------\u001b[0m",
      "\u001b[1;31mOperationalError\u001b[0m                          Traceback (most recent call last)",
      "Cell \u001b[1;32mIn[2], line 5\u001b[0m\n\u001b[0;32m      1\u001b[0m \u001b[38;5;66;03m# table creation using sqlite3 (J2 syllabus)\u001b[39;00m\n\u001b[0;32m      3\u001b[0m conn \u001b[38;5;241m=\u001b[39m sqlite3\u001b[38;5;241m.\u001b[39mconnect(\u001b[38;5;124m\"\u001b[39m\u001b[38;5;124mbento_company.db\u001b[39m\u001b[38;5;124m\"\u001b[39m)\n\u001b[1;32m----> 5\u001b[0m \u001b[43mconn\u001b[49m\u001b[38;5;241;43m.\u001b[39;49m\u001b[43mexecute\u001b[49m\u001b[43m(\u001b[49m\n\u001b[0;32m      6\u001b[0m \u001b[38;5;250;43m    \u001b[39;49m\u001b[38;5;124;43;03m'''\u001b[39;49;00m\n\u001b[0;32m      7\u001b[0m \u001b[38;5;124;43;03m    CREATE TABLE `Kiosk` (\u001b[39;49;00m\n\u001b[0;32m      8\u001b[0m \u001b[38;5;124;43;03m        `KioskID` INTEGER UNIQUE PRIMARY KEY AUTOINCREMENT,\u001b[39;49;00m\n\u001b[0;32m      9\u001b[0m \u001b[38;5;124;43;03m        `Location` TEXT,\u001b[39;49;00m\n\u001b[0;32m     10\u001b[0m \u001b[38;5;124;43;03m        `Rating` REAL\u001b[39;49;00m\n\u001b[0;32m     11\u001b[0m \u001b[38;5;124;43;03m    );\u001b[39;49;00m\n\u001b[0;32m     12\u001b[0m \u001b[38;5;124;43;03m    '''\u001b[39;49;00m\n\u001b[0;32m     13\u001b[0m \u001b[43m)\u001b[49m\n\u001b[0;32m     15\u001b[0m conn\u001b[38;5;241m.\u001b[39mexecute(\n\u001b[0;32m     16\u001b[0m \u001b[38;5;250m    \u001b[39m\u001b[38;5;124;03m'''\u001b[39;00m\n\u001b[0;32m     17\u001b[0m \u001b[38;5;124;03m    CREATE TABLE `BentoBox` (\u001b[39;00m\n\u001b[1;32m   (...)\u001b[0m\n\u001b[0;32m     24\u001b[0m \u001b[38;5;124;03m    '''\u001b[39;00m\n\u001b[0;32m     25\u001b[0m )\n\u001b[0;32m     27\u001b[0m conn\u001b[38;5;241m.\u001b[39mexecute(\n\u001b[0;32m     28\u001b[0m \u001b[38;5;250m    \u001b[39m\u001b[38;5;124;03m'''\u001b[39;00m\n\u001b[0;32m     29\u001b[0m \u001b[38;5;124;03m    CREATE TABLE `KioskBento` (\u001b[39;00m\n\u001b[1;32m   (...)\u001b[0m\n\u001b[0;32m     36\u001b[0m \u001b[38;5;124;03m    '''\u001b[39;00m\n\u001b[0;32m     37\u001b[0m )\n",
      "\u001b[1;31mOperationalError\u001b[0m: table `Kiosk` already exists"
     ]
    }
   ],
   "source": [
    "# table creation using sqlite3 (J2 syllabus)\n",
    "\n",
    "conn = sqlite3.connect(\"bento_company.db\")\n",
    "\n",
    "conn.execute(\n",
    "    '''\n",
    "    CREATE TABLE `Kiosk` (\n",
    "        `KioskID` INTEGER UNIQUE PRIMARY KEY AUTOINCREMENT,\n",
    "        `Location` TEXT,\n",
    "        `Rating` REAL\n",
    "    );\n",
    "    '''\n",
    ")\n",
    "\n",
    "conn.execute(\n",
    "    '''\n",
    "    CREATE TABLE `BentoBox` (\n",
    "        `BentoName` TEXT UNIQUE PRIMARY KEY,\n",
    "        `ProductionCost` REAL,\n",
    "        `ContainEgg` INTEGER,\n",
    "        `ContainNut` INTEGER,\n",
    "        `ContainSeafood` INTEGER\n",
    "    );\n",
    "    '''\n",
    ")\n",
    "\n",
    "conn.execute(\n",
    "    '''\n",
    "    CREATE TABLE `KioskBento` (\n",
    "        `KioskID` INTEGER,\n",
    "        `BentoName` TEXT,\n",
    "        `SellPrice` REAL,\n",
    "        FOREIGN KEY (`KioskID`) REFERENCES Kiosk(`KioskID`),\n",
    "        FOREIGN KEY (`BentoName`) REFERENCES BentoBox(`BentoName`)\n",
    "    ); \n",
    "    '''\n",
    ")\n",
    "\n",
    "conn.commit() # write the execute/commands\n",
    "conn.close()"
   ]
  },
  {
   "cell_type": "markdown",
   "metadata": {},
   "source": [
    "### Task 4.2"
   ]
  },
  {
   "cell_type": "code",
   "execution_count": null,
   "metadata": {},
   "outputs": [],
   "source": [
    "conn = sqlite3.connect(\"bento_company.db\")\n",
    "\n",
    "f_kiosk = open(\"KIOSK.txt\", \"r\")\n",
    "\n",
    "kiosk_list = []\n",
    "for line in f_kiosk:\n",
    "    id, location, rating = line.strip().split(\",\")\n",
    "    kiosk_list.append(id)\n",
    "    conn.execute(f\"INSERT INTO Kiosk (`KioskID`, `Location`, `Rating`) VALUES ('{int(id)}', '{location}', '{float(rating)}')\") # running sql command using sqlite3\n",
    "\n",
    "f_kiosk.close()"
   ]
  },
  {
   "cell_type": "code",
   "execution_count": null,
   "metadata": {},
   "outputs": [],
   "source": [
    "f_bentobox = open(\"BENTOBOX.txt\", \"r\")\n",
    "\n",
    "bento_list = []\n",
    "for line in f_bentobox:\n",
    "    name, cost, egg, nut, seafood = line.strip().split(\",\")\n",
    "    bento_list.append((name, float(cost)))\n",
    "    conn.execute(f\"INSERT INTO BentoBox (`BentoName`, `ProductionCost`, `ContainEgg`, `ContainNut`, `ContainSeafood`) VALUES ('{name}', '{float(cost)}', '{int(egg)}', '{int(nut)}', '{int(seafood)}')\")\n",
    "\n",
    "f_bentobox.close()"
   ]
  },
  {
   "cell_type": "code",
   "execution_count": null,
   "metadata": {},
   "outputs": [],
   "source": [
    "markup = [2.6, 2.9, 2.4, 3.1]\n",
    "for i in range(len(bento_list)):\n",
    "    for bento in bento_list:\n",
    "        price = bento[1] + markup[i] # reads cost from bento_list\n",
    "        conn.execute(f\"INSERT INTO KioskBento (`KioskID`, `BentoName`, `SellPrice`) VALUES ('{id}', '{bento[0]}', '{float(price)}')\")"
   ]
  },
  {
   "cell_type": "code",
   "execution_count": null,
   "metadata": {},
   "outputs": [],
   "source": [
    "conn.commit()\n",
    "conn.close()"
   ]
  }
 ],
 "metadata": {
  "kernelspec": {
   "display_name": "Python 3",
   "language": "python",
   "name": "python3"
  },
  "language_info": {
   "codemirror_mode": {
    "name": "ipython",
    "version": 3
   },
   "file_extension": ".py",
   "mimetype": "text/x-python",
   "name": "python",
   "nbconvert_exporter": "python",
   "pygments_lexer": "ipython3",
   "version": "3.11.9"
  }
 },
 "nbformat": 4,
 "nbformat_minor": 2
}
