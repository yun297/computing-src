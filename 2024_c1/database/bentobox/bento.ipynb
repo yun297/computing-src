{
 "cells": [
  {
   "cell_type": "markdown",
   "metadata": {},
   "source": [
    "### Task 4.1\n",
    "\n",
    "```sql\n",
    "CREATE TABLE `Kiosk` (\n",
    "    `KioskID` INTEGER UNIQUE PRIMARY KEY AUTOINCREMENT,\n",
    "    `Location` TEXT,\n",
    "    `Rating` REAL\n",
    ");\n",
    "\n",
    "CREATE TABLE `BentoBox` (\n",
    "    `BentoName` TEXT UNIQUE PRIMARY KEY,\n",
    "    `ProductionCost` REAL,\n",
    "    `ContainEgg` INTEGER,\n",
    "    `ContainNut` INTEGER,\n",
    "    `ContainSeafood` INTEGER\n",
    ");\n",
    "\n",
    "CREATE TABLE `KioskBento` (\n",
    "    `KioskID` INTEGER,\n",
    "    `BentoName` TEXT,\n",
    "    `SellPrice` REAL,\n",
    "    FOREIGN KEY (`KioskID`) REFERENCES Kiosk(`KioskID`),\n",
    "    FOREIGN KEY (`BentoName`) REFERENCES BentoBox(`BentoName`)\n",
    ");"
   ]
  },
  {
   "cell_type": "markdown",
   "metadata": {},
   "source": [
    "### Task 4.2"
   ]
  },
  {
   "cell_type": "code",
   "execution_count": null,
   "metadata": {},
   "outputs": [],
   "source": [
    "f = open(\"KISOK.txt\", \"r\")\n",
    "\n",
    "\n",
    "\n",
    "f.close()"
   ]
  }
 ],
 "metadata": {
  "kernelspec": {
   "display_name": "Python 3",
   "language": "python",
   "name": "python3"
  },
  "language_info": {
   "name": "python",
   "version": "3.11.9"
  }
 },
 "nbformat": 4,
 "nbformat_minor": 2
}
