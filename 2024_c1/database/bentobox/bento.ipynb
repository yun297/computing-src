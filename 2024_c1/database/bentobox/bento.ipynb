{
 "cells": [
  {
   "cell_type": "markdown",
   "metadata": {},
   "source": [
    "### Task 4.1\n",
    "\n",
    "```sql\n",
    "CREATE TABLE `Kiosk` (\n",
    "    `KioskID` INTEGER UNIQUE PRIMARY KEY AUTOINCREMENT,\n",
    "    `Location` TEXT,\n",
    "    `Rating` REAL\n",
    ");\n",
    "\n",
    "CREATE TABLE `BentoBox` (\n",
    "    `BentoName` TEXT UNIQUE PRIMARY KEY,\n",
    "    `ProductionCost` REAL,\n",
    "    `ContainEgg` INTEGER,\n",
    "    `ContainNut` INTEGER,\n",
    "    `ContainSeafood` INTEGER\n",
    ");\n",
    "\n",
    "CREATE TABLE `KioskBento` (\n",
    "    `KioskID` INTEGER,\n",
    "    `BentoName` TEXT,\n",
    "    `SellPrice` REAL,\n",
    "    FOREIGN KEY (`KioskID`) REFERENCES Kiosk(`KioskID`),\n",
    "    FOREIGN KEY (`BentoName`) REFERENCES BentoBox(`BentoName`)\n",
    ");"
   ]
  },
  {
   "cell_type": "code",
   "execution_count": null,
   "metadata": {},
   "outputs": [],
   "source": [
    "# Using SQLite3\n",
    "\n",
    "import sqlite3\n",
    "\n",
    "conn = sqlite3.connect()"
   ]
  },
  {
   "cell_type": "markdown",
   "metadata": {},
   "source": [
    "### Task 4.2"
   ]
  },
  {
   "cell_type": "code",
   "execution_count": 3,
   "metadata": {},
   "outputs": [
    {
     "name": "stdout",
     "output_type": "stream",
     "text": [
      "1,Woodlands,3.7\n",
      "\n",
      "2,Bedok,3.8\n",
      "\n",
      "3,Boon Lay,3.5\n",
      "\n",
      "4,Telok Ayer,4.1\n"
     ]
    }
   ],
   "source": [
    "f_kiosk = open(\"KIOSK.txt\", \"r\")\n",
    "\n",
    "\n",
    "\n",
    "for line in f_kiosk:\n",
    "    id, location, rating = line.split(\",\")\n",
    "    # INSERT INTO Kiosk VALUES({int(id)}, {location}, {float(rating)})\n",
    "\n",
    "f_kiosk.close()"
   ]
  }
 ],
 "metadata": {
  "kernelspec": {
   "display_name": "Python 3",
   "language": "python",
   "name": "python3"
  },
  "language_info": {
   "codemirror_mode": {
    "name": "ipython",
    "version": 3
   },
   "file_extension": ".py",
   "mimetype": "text/x-python",
   "name": "python",
   "nbconvert_exporter": "python",
   "pygments_lexer": "ipython3",
   "version": "3.11.9"
  }
 },
 "nbformat": 4,
 "nbformat_minor": 2
}
