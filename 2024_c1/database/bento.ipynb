{
 "cells": [
  {
   "cell_type": "markdown",
   "metadata": {},
   "source": [
    "### Task 4.1\n",
    "\n",
    "```sql\n",
    "CREATE TABLE Kisok (\n",
    "    KisokID INTEGER PRIMARY KEY AUTOINCREMENT,\n",
    "    Location TEXT,\n",
    "    Rating REAL,\n",
    ");\n",
    "\n",
    "CREATE TABLE BentoBox (\n",
    "    BentoxName TEXT PRIMARY KEY,\n",
    "    ProductionCost REAL,\n",
    "    ContainEgg INTEGER,\n",
    "    ContainNut INTEGER,\n",
    "    ContainSeafood INTEGER,\n",
    ")\n",
    "\n",
    "CREATE TABLE KisokBento (\n",
    "    FOREIGN KEY KisokID INTEGER REFERENCES Kisok(KisokID),\n",
    "    FOREIGN KEY BentoName TEXT REFERENCES BentoBox(BentoName),\n",
    "    SellPrice REAL,\n",
    ");\n",
    "```"
   ]
  }
 ],
 "metadata": {
  "language_info": {
   "name": "python"
  }
 },
 "nbformat": 4,
 "nbformat_minor": 2
}
