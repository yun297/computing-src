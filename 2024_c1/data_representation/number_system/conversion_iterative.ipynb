{
 "cells": [
  {
   "cell_type": "markdown",
   "metadata": {},
   "source": [
    "### Decimal numbers to binary numbers"
   ]
  },
  {
   "cell_type": "code",
   "execution_count": 12,
   "metadata": {},
   "outputs": [
    {
     "data": {
      "text/plain": [
       "'1010'"
      ]
     },
     "execution_count": 12,
     "metadata": {},
     "output_type": "execute_result"
    }
   ],
   "source": [
    "# Iterative\n",
    "\n",
    "def dec_to_bin(input):\n",
    "    output = \"\"\n",
    "    while input != 0:\n",
    "        quotient = input//2\n",
    "        remainder = input%2\n",
    "        input = quotient\n",
    "        output += str(remainder)\n",
    "    \n",
    "    return output[::-1]\n",
    "\n",
    "dec_to_bin(10)"
   ]
  },
  {
   "cell_type": "markdown",
   "metadata": {},
   "source": [
    "### Decimal numbers to hexadecimal numbers"
   ]
  },
  {
   "cell_type": "code",
   "execution_count": 13,
   "metadata": {},
   "outputs": [
    {
     "data": {
      "text/plain": [
       "'4F'"
      ]
     },
     "execution_count": 13,
     "metadata": {},
     "output_type": "execute_result"
    }
   ],
   "source": [
    "# Iterative\n",
    "\n",
    "def dec_to_hex(input):\n",
    "    hex_table = [\"0\", \"1\", \"2\", \"3\", \"4\", \"5\", \"6\", \"7\", \"8\", \"9\", \"A\", \"B\", \"C\", \"D\", \"E\", \"F\"]\n",
    "    \n",
    "    output = \"\"\n",
    "    while input != 0:\n",
    "        quotient = input//16\n",
    "        remainder = input%16\n",
    "        input = quotient\n",
    "        \n",
    "        output += hex_table[remainder]\n",
    "    \n",
    "    return output[::-1]\n",
    "\n",
    "dec_to_hex(79)"
   ]
  },
  {
   "cell_type": "markdown",
   "metadata": {},
   "source": [
    "### Binary numbers to decimal numbers"
   ]
  },
  {
   "cell_type": "code",
   "execution_count": 7,
   "metadata": {},
   "outputs": [
    {
     "name": "stdout",
     "output_type": "stream",
     "text": [
      "10\n"
     ]
    }
   ],
   "source": [
    "# Iterative\n",
    "\n",
    "def bin_to_dec(input):\n",
    "    output = 0\n",
    "    for i in range(len(str(input))):\n",
    "        if str(input)[i] == \"1\":\n",
    "            output += 2**(len(str(input))-i-1)\n",
    "            \n",
    "    return output\n",
    "\n",
    "print(bin_to_dec(1010))"
   ]
  },
  {
   "cell_type": "markdown",
   "metadata": {},
   "source": [
    "### Hexadecimal numbers to decimal numbers"
   ]
  },
  {
   "cell_type": "code",
   "execution_count": 14,
   "metadata": {},
   "outputs": [
    {
     "data": {
      "text/plain": [
       "109"
      ]
     },
     "execution_count": 14,
     "metadata": {},
     "output_type": "execute_result"
    }
   ],
   "source": [
    "def hex_to_dec(input):\n",
    "    hex_table = [\"0\", \"1\", \"2\", \"3\", \"4\", \"5\", \"6\", \"7\", \"8\", \"9\", \"A\", \"B\", \"C\", \"D\", \"E\", \"F\"]\n",
    "    \n",
    "    output = 0\n",
    "    \n",
    "    for i in range(len(input)):\n",
    "        output += hex_table.index(input[i]) * 16**(len(input)-i-1)\n",
    "    \n",
    "    return output\n",
    "\n",
    "hex_to_dec(\"6D\")"
   ]
  },
  {
   "cell_type": "markdown",
   "metadata": {},
   "source": [
    "### Binary numbers to hexadecimal numbers"
   ]
  },
  {
   "cell_type": "code",
   "execution_count": 23,
   "metadata": {},
   "outputs": [
    {
     "data": {
      "text/plain": [
       "'1C'"
      ]
     },
     "execution_count": 23,
     "metadata": {},
     "output_type": "execute_result"
    }
   ],
   "source": [
    "def bin_to_hex(input):\n",
    "    input = str(input)\n",
    "    \n",
    "    output = \"\"\n",
    "    if len(input)%4 != 0:\n",
    "        input = (4 - len(input)%4) * \"0\" + input\n",
    "        \n",
    "    # print(input)\n",
    "    \n",
    "    count = 0\n",
    "    lst = []\n",
    "    \n",
    "    while count < len(input):\n",
    "        lst.append(input[count:count + 4])\n",
    "        count += 4\n",
    "        \n",
    "    # print(lst)\n",
    "    \n",
    "    for item in lst:\n",
    "        output += dec_to_hex(bin_to_dec(item))\n",
    "    \n",
    "    return output\n",
    "\n",
    "bin_to_hex(11100)\n",
    "\n",
    "\n",
    "        "
   ]
  },
  {
   "cell_type": "markdown",
   "metadata": {},
   "source": [
    "### Hexadecimal numbers to binary numbers"
   ]
  },
  {
   "cell_type": "code",
   "execution_count": 25,
   "metadata": {},
   "outputs": [
    {
     "data": {
      "text/plain": [
       "'00011100'"
      ]
     },
     "execution_count": 25,
     "metadata": {},
     "output_type": "execute_result"
    }
   ],
   "source": [
    "def hex_to_bin(input):\n",
    "    output = \"\"\n",
    "    for char in input:\n",
    "        output += dec_to_bin(hex_to_dec(char))\n",
    "        \n",
    "    if len(output)%4 != 0:\n",
    "        output = (4 - len(output)%4) * \"0\" + output\n",
    "        \n",
    "    return output\n",
    "\n",
    "hex_to_bin(\"1C\")"
   ]
  }
 ],
 "metadata": {
  "kernelspec": {
   "display_name": "Python 3",
   "language": "python",
   "name": "python3"
  },
  "language_info": {
   "codemirror_mode": {
    "name": "ipython",
    "version": 3
   },
   "file_extension": ".py",
   "mimetype": "text/x-python",
   "name": "python",
   "nbconvert_exporter": "python",
   "pygments_lexer": "ipython3",
   "version": "3.11.9"
  }
 },
 "nbformat": 4,
 "nbformat_minor": 2
}
