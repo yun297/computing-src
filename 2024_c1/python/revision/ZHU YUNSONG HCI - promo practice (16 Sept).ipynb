{
  "cells": [
    {
      "cell_type": "markdown",
      "metadata": {
        "id": "Enl86Pxza94Q"
      },
      "source": [
        "# <u>**Task 1. Roman Numerals**</u>\n",
        "\n",
        "Write 2 functions converting between Integers and Roman Numerals.\n",
        "\n",
        "Roman Numeral  | Integer Value\n",
        "---------------|---------------\n",
        "I              |  1\n",
        "V              |  5\n",
        "X              |  10\n",
        "L              |  50\n",
        "C              |  100\n",
        "D              |  500\n",
        "M              |  1000\n",
        "\n",
        "`int2rom(2022)` $\\rightarrow$ `'MMCCII'`<br>\n",
        "`rom2int('CLIX')` $\\rightarrow$ `159`\n",
        "\n",
        "Note: 4, 9, 40, 90, 400, 900 are written as 'IV', 'IX', 'XL', 'XC', 'CD' and 'CM' respectively.\n",
        "\n",
        "[Wiki page on Roman Numerals](https://en.wikipedia.org/wiki/Roman_numerals)<br>\n",
        "[Converter Tester](https://www.rapidtables.com/convert/number/roman-numerals-converter.html)\n",
        "\n",
        "Note: This is modified from past-year A-level question, and used in interviews by several big-tech companies."
      ]
    },
    {
      "cell_type": "markdown",
      "metadata": {
        "id": "R91peX7ra7Aj"
      },
      "source": [
        "## <u>**Task 1.1 (Integer to Roman)**</u>\n",
        "\n",
        "`int2rom(num)`: which accepts a positive integer $1\\leq$ `num` $\\leq 3999$, converts and returns it as a roman numeral string.\n",
        "\n",
        "---\n",
        "Example:\n",
        "```\n",
        "print(int2rom(2494))\n",
        "print(int2rom(238))\n",
        "print(int2rom(1337))\n",
        "```\n",
        "Output:\n",
        "```\n",
        "MMCDXCIV\n",
        "CCXXXVIII\n",
        "MCCCXXXVII\n",
        "```"
      ]
    },
    {
      "cell_type": "code",
      "execution_count": 4,
      "metadata": {
        "colab": {
          "base_uri": "https://localhost:8080/"
        },
        "id": "vhNOnPhza5q4",
        "outputId": "80aa6460-6b38-4f48-9246-fc479e83bace"
      },
      "outputs": [
        {
          "name": "stdout",
          "output_type": "stream",
          "text": [
            "MMCDXCIV\n",
            "CCXXXVIII\n",
            "MCCCXXXVII\n"
          ]
        }
      ],
      "source": [
        "# Task1_1\n",
        "\n",
        "def int2rom(num):\n",
        "    \n",
        "    int2rom_map = {\n",
        "        1000: \"M\",\n",
        "        900: \"CM\",\n",
        "        500: \"D\",\n",
        "        400: \"CD\",\n",
        "        100: \"C\",\n",
        "        90: \"XC\",\n",
        "        50: \"L\",\n",
        "        40: \"XL\",\n",
        "        10: \"X\",\n",
        "        9: \"IX\",\n",
        "        5: \"V\",\n",
        "        4: \"IV\",\n",
        "        1: \"I\"\n",
        "    }\n",
        "    \n",
        "    rom = \"\"\n",
        "    \n",
        "    for i in int2rom_map.keys():\n",
        "        while num >= i:\n",
        "            rom += int2rom_map[i]\n",
        "            num -= i\n",
        "            \n",
        "    return rom\n",
        "\n",
        "print(int2rom(2494))\n",
        "print(int2rom(238))\n",
        "print(int2rom(1337))\n"
      ]
    },
    {
      "cell_type": "markdown",
      "metadata": {
        "id": "JX1w2B_HbDGS"
      },
      "source": [
        "## <u>**Task 1.2 (Roman to Integer)**</u>\n",
        "\n",
        "`rom2int(rom)`: which accepts a roman numeral string, converts and returns an integer $1\\leq$ `num` $\\leq 3999$.\n",
        "\n",
        "---\n",
        "Example:\n",
        "```\n",
        "print(rom2int('MMMCMXCIX'))\n",
        "print(rom2int('MIX'))\n",
        "print(rom2int('MCCCXXXVII'))\n",
        "```\n",
        "Output:\n",
        "```\n",
        "3999\n",
        "1009\n",
        "1337\n",
        "```"
      ]
    },
    {
      "cell_type": "code",
      "execution_count": 7,
      "metadata": {
        "colab": {
          "base_uri": "https://localhost:8080/"
        },
        "id": "1NfqJcjrbHBI",
        "outputId": "9e36b43d-1744-4907-bda7-975ce0cb1d40"
      },
      "outputs": [
        {
          "name": "stdout",
          "output_type": "stream",
          "text": [
            "3999\n",
            "1009\n",
            "1337\n"
          ]
        }
      ],
      "source": [
        "# Task1_2\n",
        "\n",
        "def rom2int(rom):\n",
        "    \n",
        "    int2rom_map = {\n",
        "        \"M\": 1000,\n",
        "        \"CM\": 900,\n",
        "        \"D\": 500,\n",
        "        \"CD\": 400,\n",
        "        \"C\": 100,\n",
        "        \"XC\": 90,\n",
        "        \"L\": 50,\n",
        "        \"XL\": 40,\n",
        "        \"X\": 10,\n",
        "        \"IX\": 9,\n",
        "        \"V\": 5,\n",
        "        \"IV\": 4,\n",
        "        \"I\": 1\n",
        "    }\n",
        "    \n",
        "    int_num = 0\n",
        "    i = 0\n",
        "    \n",
        "    while i < len(rom):\n",
        "        if rom[i:i+2] in int2rom_map.keys():\n",
        "            int_num += int2rom_map[rom[i:i+2]]\n",
        "            i += 2\n",
        "        else:\n",
        "            int_num += int2rom_map[rom[i]]\n",
        "            i += 1\n",
        "    \n",
        "    return int_num\n",
        "\n",
        "print(rom2int('MMMCMXCIX'))\n",
        "print(rom2int('MIX'))\n",
        "print(rom2int('MCCCXXXVII'))"
      ]
    },
    {
      "cell_type": "markdown",
      "metadata": {
        "id": "qASEYxh_bSrq"
      },
      "source": [
        "##**Task 2 (SG passport)**\n",
        "Singapore's passports have a 2-liner MRZ (machine-readable zone) and utilise the modulo 10 check digit algorithm.\n",
        "\n",
        "From https://en.wikipedia.org/wiki/Machine-readable_passport\n",
        "\n",
        "The data of the machine-readable zone consists of two rows of 44 characters each. The only characters used are A–Z, 0–9 and the filler/chevron character <.\n",
        "\n",
        "The format of the first row is:\n",
        "\n",
        "Positions | Length | Characters\t| Meaning\n",
        "----------|--------|------------|--------\n",
        "1         | 1      | alpha      | P, indicating a passport\n",
        "2         | 1      | alpha      | Type: A, indicating biometric\n",
        "3–5       | 3      | alpha      | Issuing country/organization\n",
        "6–44      | 39\t   | alpha      | Surname, followed by 2 filler characters, followed by given name separated by 1 filler character\n",
        "\n",
        "The format of the second row is:\n",
        "\n",
        "Positions | Length | Characters\t| Meaning\n",
        "----------|--------|------------|--------\n",
        "1–9       | 9      | alpha+num  | Passport number\n",
        "10        | 1      | numeric    | Check digit over digits 1–9\n",
        "11–13     | 3\t     | alpha      | Nationality\n",
        "14–19     | 6      | numeric    | Date of birth (YYMMDD)\n",
        "20        | 1      | numeric    | Check digit over digits 14–19\n",
        "21        | 1      | alpha      | Sex (M, F or < for male, female or unspecified)\n",
        "22–27     | 6      | numeric    | Expiration date of passport (YYMMDD)\n",
        "28        | 1      | numeric    | Check digit over digits 22–27\n",
        "29–42     | 14     | alpha+num  | Personal number\n",
        "43        | 1      | numeric    | Check digit over digits 29–42 (may be < if all characters are <)\n",
        "44        | 1      | numeric    | Check digit over digits 1–10, 14–20, and 22–43\n",
        "\n",
        "\n",
        "\n",
        "From https://en.wikipedia.org/wiki/Machine-readable_passport#%D0%A1hecksum_calculation\n",
        "\n",
        "**Сhecksum calculation**\n",
        "\n",
        "The check digit calculation is as follows: each position is assigned a value; for the digits 0 to 9 this is the value of the digits, for the letters A to Z this is 10 to 35, for the filler < this is 0. The value of each position is then multiplied by its weight; the weight of the first position is 7, of the second it is 3, and of the third it is 1, and after that the weights repeat 7, 3, 1, and so on. All values are added together and the remainder of the final value divided by 10 is the check digit."
      ]
    },
    {
      "cell_type": "markdown",
      "metadata": {
        "id": "YyYPNAX0bYZT"
      },
      "source": [
        "###**Task 2.1**\n",
        "\n",
        "Using the following sample MRZ:\n",
        "```\n",
        "PASGPWONG<<KARA<YUN<EN<<<<<<<<<<<<<<<<<<<<<<\n",
        "K0000000E4SGP7705038F2210300S7788888H<<<<<98\n",
        "```\n",
        "Source: https://en.wikipedia.org/wiki/Singapore_passport\n",
        "\n",
        "and the following data strings:"
      ]
    },
    {
      "cell_type": "code",
      "execution_count": null,
      "metadata": {
        "id": "QzeyAdBGbem-"
      },
      "outputs": [],
      "source": [
        "aline1 = \"PASGPWONG<<KARA<YUN<EN<<<<<<<<<<<<<<<<<<<<<<\"\n",
        "aline2 = \"K0000000E4SGP7705038F2210300S7788888H<<<<<98\""
      ]
    },
    {
      "cell_type": "markdown",
      "metadata": {
        "id": "-eV0cIR7bgco"
      },
      "source": [
        "Write a user-defined function `fullname(string)` to extract and display the full name of the passport holder in surname + given name format.\n",
        "\n",
        "For the above example, output the full name as:\n",
        "```\n",
        "WONG KARA YUN EN\n",
        "```\n",
        "Verify that your function works for the following MRZ:\n",
        "\n",
        "Source: https://community.developers.refinitiv.com/questions/79293/please-let-us-know-if-there-is-any-specific-way-to.html"
      ]
    },
    {
      "cell_type": "code",
      "execution_count": null,
      "metadata": {
        "id": "vLntexPRcXg4"
      },
      "outputs": [],
      "source": [
        "bline1 = \"PASGPNG<<LINDA<ZEE<ZEE<<<<<<<<<<<<<<<<<<<<<<\"\n",
        "bline2 = \"X2000444N4SGP7706275F1008232S7788888H<<<<<96\""
      ]
    },
    {
      "cell_type": "code",
      "execution_count": null,
      "metadata": {
        "colab": {
          "base_uri": "https://localhost:8080/"
        },
        "id": "wHO8Zz85bjEU",
        "outputId": "fd73f0ac-77e9-4c5b-d93f-334cbd66ef0e"
      },
      "outputs": [
        {
          "name": "stdout",
          "output_type": "stream",
          "text": [
            "WONG KARA YUN EN\n",
            "NG LINDA ZEE ZEE\n"
          ]
        }
      ],
      "source": [
        "# Task2_1\n",
        "\n",
        "def fullname(string):\n",
        "    pass\n",
        "\n",
        "# main\n",
        "print(fullname(aline1)) # returns WONG KARA YUN EN\n",
        "print(fullname(bline1)) # returns NG LINDA ZEE ZEE"
      ]
    },
    {
      "cell_type": "markdown",
      "metadata": {
        "id": "a6fxpKVObk30"
      },
      "source": [
        "###**Task 2.2**\n",
        "Write user-defined function(s) to verify if a passport substring check digit is valid.\n",
        "\n",
        "Note: For each MRZ line, there are 5 check digits that your function(s) should test against."
      ]
    },
    {
      "cell_type": "code",
      "execution_count": null,
      "metadata": {
        "colab": {
          "base_uri": "https://localhost:8080/"
        },
        "id": "o3kb4KcabswS",
        "outputId": "fc99e3a3-7126-4f1d-c82d-5bea8001aedd"
      },
      "outputs": [
        {
          "name": "stdout",
          "output_type": "stream",
          "text": [
            "True\n",
            "True\n"
          ]
        }
      ],
      "source": [
        "# Task2_2\n",
        "\n",
        "def passport_to_num_list(string):\n",
        "    pass\n",
        "\n",
        "print(passport_check(aline2))\n",
        "print(passport_check(bline2))"
      ]
    }
  ],
  "metadata": {
    "colab": {
      "provenance": []
    },
    "kernelspec": {
      "display_name": "Python 3",
      "name": "python3"
    },
    "language_info": {
      "codemirror_mode": {
        "name": "ipython",
        "version": 3
      },
      "file_extension": ".py",
      "mimetype": "text/x-python",
      "name": "python",
      "nbconvert_exporter": "python",
      "pygments_lexer": "ipython3",
      "version": "3.11.9"
    }
  },
  "nbformat": 4,
  "nbformat_minor": 0
}
